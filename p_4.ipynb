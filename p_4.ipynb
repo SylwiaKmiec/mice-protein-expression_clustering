{
 "cells": [
  {
   "cell_type": "code",
   "execution_count": 2,
   "id": "fcb5544c",
   "metadata": {},
   "outputs": [],
   "source": [
    "import pandas as pd\n",
    "import numpy as np\n",
    "import seaborn as sns\n",
    "import matplotlib.pyplot as plt\n",
    "import plotly.express as px\n",
    "import warnings\n",
    "from plotnine import *\n",
    "warnings.filterwarnings('ignore') # We can suppress the warnings"
   ]
  },
  {
   "cell_type": "code",
   "execution_count": 3,
   "id": "ce440bbe",
   "metadata": {},
   "outputs": [],
   "source": [
    "df = pd.read_excel('Data_Cortex_Nuclear.xls')\n"
   ]
  },
  {
   "cell_type": "code",
   "execution_count": 4,
   "id": "1351b7e0",
   "metadata": {},
   "outputs": [
    {
     "data": {
      "text/html": [
       "<div>\n",
       "<style scoped>\n",
       "    .dataframe tbody tr th:only-of-type {\n",
       "        vertical-align: middle;\n",
       "    }\n",
       "\n",
       "    .dataframe tbody tr th {\n",
       "        vertical-align: top;\n",
       "    }\n",
       "\n",
       "    .dataframe thead th {\n",
       "        text-align: right;\n",
       "    }\n",
       "</style>\n",
       "<table border=\"1\" class=\"dataframe\">\n",
       "  <thead>\n",
       "    <tr style=\"text-align: right;\">\n",
       "      <th></th>\n",
       "      <th>MouseID</th>\n",
       "      <th>DYRK1A_N</th>\n",
       "      <th>ITSN1_N</th>\n",
       "      <th>BDNF_N</th>\n",
       "      <th>NR1_N</th>\n",
       "      <th>NR2A_N</th>\n",
       "      <th>pAKT_N</th>\n",
       "      <th>pBRAF_N</th>\n",
       "      <th>pCAMKII_N</th>\n",
       "      <th>pCREB_N</th>\n",
       "      <th>...</th>\n",
       "      <th>pCFOS_N</th>\n",
       "      <th>SYP_N</th>\n",
       "      <th>H3AcK18_N</th>\n",
       "      <th>EGR1_N</th>\n",
       "      <th>H3MeK4_N</th>\n",
       "      <th>CaNA_N</th>\n",
       "      <th>Genotype</th>\n",
       "      <th>Treatment</th>\n",
       "      <th>Behavior</th>\n",
       "      <th>class</th>\n",
       "    </tr>\n",
       "  </thead>\n",
       "  <tbody>\n",
       "    <tr>\n",
       "      <th>0</th>\n",
       "      <td>309_1</td>\n",
       "      <td>0.503644</td>\n",
       "      <td>0.747193</td>\n",
       "      <td>0.430175</td>\n",
       "      <td>2.816329</td>\n",
       "      <td>5.990152</td>\n",
       "      <td>0.218830</td>\n",
       "      <td>0.177565</td>\n",
       "      <td>2.373744</td>\n",
       "      <td>0.232224</td>\n",
       "      <td>...</td>\n",
       "      <td>0.108336</td>\n",
       "      <td>0.427099</td>\n",
       "      <td>0.114783</td>\n",
       "      <td>0.131790</td>\n",
       "      <td>0.128186</td>\n",
       "      <td>1.675652</td>\n",
       "      <td>Control</td>\n",
       "      <td>Memantine</td>\n",
       "      <td>C/S</td>\n",
       "      <td>c-CS-m</td>\n",
       "    </tr>\n",
       "    <tr>\n",
       "      <th>1</th>\n",
       "      <td>309_2</td>\n",
       "      <td>0.514617</td>\n",
       "      <td>0.689064</td>\n",
       "      <td>0.411770</td>\n",
       "      <td>2.789514</td>\n",
       "      <td>5.685038</td>\n",
       "      <td>0.211636</td>\n",
       "      <td>0.172817</td>\n",
       "      <td>2.292150</td>\n",
       "      <td>0.226972</td>\n",
       "      <td>...</td>\n",
       "      <td>0.104315</td>\n",
       "      <td>0.441581</td>\n",
       "      <td>0.111974</td>\n",
       "      <td>0.135103</td>\n",
       "      <td>0.131119</td>\n",
       "      <td>1.743610</td>\n",
       "      <td>Control</td>\n",
       "      <td>Memantine</td>\n",
       "      <td>C/S</td>\n",
       "      <td>c-CS-m</td>\n",
       "    </tr>\n",
       "    <tr>\n",
       "      <th>2</th>\n",
       "      <td>309_3</td>\n",
       "      <td>0.509183</td>\n",
       "      <td>0.730247</td>\n",
       "      <td>0.418309</td>\n",
       "      <td>2.687201</td>\n",
       "      <td>5.622059</td>\n",
       "      <td>0.209011</td>\n",
       "      <td>0.175722</td>\n",
       "      <td>2.283337</td>\n",
       "      <td>0.230247</td>\n",
       "      <td>...</td>\n",
       "      <td>0.106219</td>\n",
       "      <td>0.435777</td>\n",
       "      <td>0.111883</td>\n",
       "      <td>0.133362</td>\n",
       "      <td>0.127431</td>\n",
       "      <td>1.926427</td>\n",
       "      <td>Control</td>\n",
       "      <td>Memantine</td>\n",
       "      <td>C/S</td>\n",
       "      <td>c-CS-m</td>\n",
       "    </tr>\n",
       "    <tr>\n",
       "      <th>3</th>\n",
       "      <td>309_4</td>\n",
       "      <td>0.442107</td>\n",
       "      <td>0.617076</td>\n",
       "      <td>0.358626</td>\n",
       "      <td>2.466947</td>\n",
       "      <td>4.979503</td>\n",
       "      <td>0.222886</td>\n",
       "      <td>0.176463</td>\n",
       "      <td>2.152301</td>\n",
       "      <td>0.207004</td>\n",
       "      <td>...</td>\n",
       "      <td>0.111262</td>\n",
       "      <td>0.391691</td>\n",
       "      <td>0.130405</td>\n",
       "      <td>0.147444</td>\n",
       "      <td>0.146901</td>\n",
       "      <td>1.700563</td>\n",
       "      <td>Control</td>\n",
       "      <td>Memantine</td>\n",
       "      <td>C/S</td>\n",
       "      <td>c-CS-m</td>\n",
       "    </tr>\n",
       "    <tr>\n",
       "      <th>4</th>\n",
       "      <td>309_5</td>\n",
       "      <td>0.434940</td>\n",
       "      <td>0.617430</td>\n",
       "      <td>0.358802</td>\n",
       "      <td>2.365785</td>\n",
       "      <td>4.718679</td>\n",
       "      <td>0.213106</td>\n",
       "      <td>0.173627</td>\n",
       "      <td>2.134014</td>\n",
       "      <td>0.192158</td>\n",
       "      <td>...</td>\n",
       "      <td>0.110694</td>\n",
       "      <td>0.434154</td>\n",
       "      <td>0.118481</td>\n",
       "      <td>0.140314</td>\n",
       "      <td>0.148380</td>\n",
       "      <td>1.839730</td>\n",
       "      <td>Control</td>\n",
       "      <td>Memantine</td>\n",
       "      <td>C/S</td>\n",
       "      <td>c-CS-m</td>\n",
       "    </tr>\n",
       "  </tbody>\n",
       "</table>\n",
       "<p>5 rows × 82 columns</p>\n",
       "</div>"
      ],
      "text/plain": [
       "  MouseID  DYRK1A_N   ITSN1_N    BDNF_N     NR1_N    NR2A_N    pAKT_N  \\\n",
       "0   309_1  0.503644  0.747193  0.430175  2.816329  5.990152  0.218830   \n",
       "1   309_2  0.514617  0.689064  0.411770  2.789514  5.685038  0.211636   \n",
       "2   309_3  0.509183  0.730247  0.418309  2.687201  5.622059  0.209011   \n",
       "3   309_4  0.442107  0.617076  0.358626  2.466947  4.979503  0.222886   \n",
       "4   309_5  0.434940  0.617430  0.358802  2.365785  4.718679  0.213106   \n",
       "\n",
       "    pBRAF_N  pCAMKII_N   pCREB_N  ...   pCFOS_N     SYP_N  H3AcK18_N  \\\n",
       "0  0.177565   2.373744  0.232224  ...  0.108336  0.427099   0.114783   \n",
       "1  0.172817   2.292150  0.226972  ...  0.104315  0.441581   0.111974   \n",
       "2  0.175722   2.283337  0.230247  ...  0.106219  0.435777   0.111883   \n",
       "3  0.176463   2.152301  0.207004  ...  0.111262  0.391691   0.130405   \n",
       "4  0.173627   2.134014  0.192158  ...  0.110694  0.434154   0.118481   \n",
       "\n",
       "     EGR1_N  H3MeK4_N    CaNA_N  Genotype  Treatment  Behavior   class  \n",
       "0  0.131790  0.128186  1.675652   Control  Memantine       C/S  c-CS-m  \n",
       "1  0.135103  0.131119  1.743610   Control  Memantine       C/S  c-CS-m  \n",
       "2  0.133362  0.127431  1.926427   Control  Memantine       C/S  c-CS-m  \n",
       "3  0.147444  0.146901  1.700563   Control  Memantine       C/S  c-CS-m  \n",
       "4  0.140314  0.148380  1.839730   Control  Memantine       C/S  c-CS-m  \n",
       "\n",
       "[5 rows x 82 columns]"
      ]
     },
     "execution_count": 4,
     "metadata": {},
     "output_type": "execute_result"
    }
   ],
   "source": [
    "df.head()"
   ]
  },
  {
   "cell_type": "code",
   "execution_count": 5,
   "id": "e5c2d0b4",
   "metadata": {},
   "outputs": [
    {
     "name": "stdout",
     "output_type": "stream",
     "text": [
      "<class 'pandas.core.frame.DataFrame'>\n",
      "RangeIndex: 1080 entries, 0 to 1079\n",
      "Data columns (total 82 columns):\n",
      " #   Column           Non-Null Count  Dtype  \n",
      "---  ------           --------------  -----  \n",
      " 0   MouseID          1080 non-null   object \n",
      " 1   DYRK1A_N         1077 non-null   float64\n",
      " 2   ITSN1_N          1077 non-null   float64\n",
      " 3   BDNF_N           1077 non-null   float64\n",
      " 4   NR1_N            1077 non-null   float64\n",
      " 5   NR2A_N           1077 non-null   float64\n",
      " 6   pAKT_N           1077 non-null   float64\n",
      " 7   pBRAF_N          1077 non-null   float64\n",
      " 8   pCAMKII_N        1077 non-null   float64\n",
      " 9   pCREB_N          1077 non-null   float64\n",
      " 10  pELK_N           1077 non-null   float64\n",
      " 11  pERK_N           1077 non-null   float64\n",
      " 12  pJNK_N           1077 non-null   float64\n",
      " 13  PKCA_N           1077 non-null   float64\n",
      " 14  pMEK_N           1077 non-null   float64\n",
      " 15  pNR1_N           1077 non-null   float64\n",
      " 16  pNR2A_N          1077 non-null   float64\n",
      " 17  pNR2B_N          1077 non-null   float64\n",
      " 18  pPKCAB_N         1077 non-null   float64\n",
      " 19  pRSK_N           1077 non-null   float64\n",
      " 20  AKT_N            1077 non-null   float64\n",
      " 21  BRAF_N           1077 non-null   float64\n",
      " 22  CAMKII_N         1077 non-null   float64\n",
      " 23  CREB_N           1077 non-null   float64\n",
      " 24  ELK_N            1062 non-null   float64\n",
      " 25  ERK_N            1077 non-null   float64\n",
      " 26  GSK3B_N          1077 non-null   float64\n",
      " 27  JNK_N            1077 non-null   float64\n",
      " 28  MEK_N            1073 non-null   float64\n",
      " 29  TRKA_N           1077 non-null   float64\n",
      " 30  RSK_N            1077 non-null   float64\n",
      " 31  APP_N            1077 non-null   float64\n",
      " 32  Bcatenin_N       1062 non-null   float64\n",
      " 33  SOD1_N           1077 non-null   float64\n",
      " 34  MTOR_N           1077 non-null   float64\n",
      " 35  P38_N            1077 non-null   float64\n",
      " 36  pMTOR_N          1077 non-null   float64\n",
      " 37  DSCR1_N          1077 non-null   float64\n",
      " 38  AMPKA_N          1077 non-null   float64\n",
      " 39  NR2B_N           1077 non-null   float64\n",
      " 40  pNUMB_N          1077 non-null   float64\n",
      " 41  RAPTOR_N         1077 non-null   float64\n",
      " 42  TIAM1_N          1077 non-null   float64\n",
      " 43  pP70S6_N         1077 non-null   float64\n",
      " 44  NUMB_N           1080 non-null   float64\n",
      " 45  P70S6_N          1080 non-null   float64\n",
      " 46  pGSK3B_N         1080 non-null   float64\n",
      " 47  pPKCG_N          1080 non-null   float64\n",
      " 48  CDK5_N           1080 non-null   float64\n",
      " 49  S6_N             1080 non-null   float64\n",
      " 50  ADARB1_N         1080 non-null   float64\n",
      " 51  AcetylH3K9_N     1080 non-null   float64\n",
      " 52  RRP1_N           1080 non-null   float64\n",
      " 53  BAX_N            1080 non-null   float64\n",
      " 54  ARC_N            1080 non-null   float64\n",
      " 55  ERBB4_N          1080 non-null   float64\n",
      " 56  nNOS_N           1080 non-null   float64\n",
      " 57  Tau_N            1080 non-null   float64\n",
      " 58  GFAP_N           1080 non-null   float64\n",
      " 59  GluR3_N          1080 non-null   float64\n",
      " 60  GluR4_N          1080 non-null   float64\n",
      " 61  IL1B_N           1080 non-null   float64\n",
      " 62  P3525_N          1080 non-null   float64\n",
      " 63  pCASP9_N         1080 non-null   float64\n",
      " 64  PSD95_N          1080 non-null   float64\n",
      " 65  SNCA_N           1080 non-null   float64\n",
      " 66  Ubiquitin_N      1080 non-null   float64\n",
      " 67  pGSK3B_Tyr216_N  1080 non-null   float64\n",
      " 68  SHH_N            1080 non-null   float64\n",
      " 69  BAD_N            867 non-null    float64\n",
      " 70  BCL2_N           795 non-null    float64\n",
      " 71  pS6_N            1080 non-null   float64\n",
      " 72  pCFOS_N          1005 non-null   float64\n",
      " 73  SYP_N            1080 non-null   float64\n",
      " 74  H3AcK18_N        900 non-null    float64\n",
      " 75  EGR1_N           870 non-null    float64\n",
      " 76  H3MeK4_N         810 non-null    float64\n",
      " 77  CaNA_N           1080 non-null   float64\n",
      " 78  Genotype         1080 non-null   object \n",
      " 79  Treatment        1080 non-null   object \n",
      " 80  Behavior         1080 non-null   object \n",
      " 81  class            1080 non-null   object \n",
      "dtypes: float64(77), object(5)\n",
      "memory usage: 692.0+ KB\n"
     ]
    }
   ],
   "source": [
    "df.info()"
   ]
  },
  {
   "cell_type": "code",
   "execution_count": 6,
   "id": "6f8c52bb",
   "metadata": {},
   "outputs": [],
   "source": [
    "def missing_data(data, thresh=1, color='black', edgecolor='black', width=15, height=3):\n",
    "     \n",
    "    plt.figure(figsize=(width,height))\n",
    "    percentage=(data.isnull().mean())*100\n",
    "    percentage.sort_values(ascending=False)[:10].plot.bar(color=color, edgecolor=edgecolor)\n",
    "    plt.axhline(y=thresh, color='r', linestyle='-')\n",
    "    plt.title('Missing values percentage per column', fontsize=20, weight='bold' )\n",
    "    plt.text(len(data.isnull()[:10].sum()/len(data))/15, thresh +8, \n",
    "             f'Columns with more than {thresh}% missing values', fontsize=12, color='darkblue',\n",
    "             ha='left' ,va='top')\n",
    "    plt.text(len(data.isnull()[:10].sum()/len(data))/15, thresh -3, \n",
    "             f'Columns with less than {thresh}% missing values', fontsize=12, color='green',\n",
    "             ha='left' ,va='top')\n",
    "    plt.xlabel('Columns', size=15, weight='bold')\n",
    "    plt.ylabel('Missing values percentage')\n",
    "    \n",
    "    return plt.show()"
   ]
  },
  {
   "cell_type": "code",
   "execution_count": 7,
   "id": "2e22ff99",
   "metadata": {},
   "outputs": [
    {
     "data": {
      "image/png": "[encoded data removed]",
      "text/plain": [
       "<Figure size 1080x216 with 1 Axes>"
      ]
     },
     "metadata": {
      "needs_background": "light"
     },
     "output_type": "display_data"
    }
   ],
   "source": [
    "missing_data(df, 10, color=sns.color_palette('afmhot',10))"
   ]
  },
  {
   "cell_type": "markdown",
   "id": "ee7d25bd",
   "metadata": {},
   "source": [
    "Dropping columns with more than 10% missing data:"
   ]
  },
  {
   "cell_type": "code",
   "execution_count": 8,
   "id": "08484eed",
   "metadata": {},
   "outputs": [
    {
     "data": {
      "text/plain": [
       "(1080, 82)"
      ]
     },
     "execution_count": 8,
     "metadata": {},
     "output_type": "execute_result"
    }
   ],
   "source": [
    "df.shape"
   ]
  },
  {
   "cell_type": "code",
   "execution_count": 9,
   "id": "7f36db1c",
   "metadata": {},
   "outputs": [],
   "source": [
    "df1 = df.dropna(how='any',axis=1,thresh=df.shape[0]*0.9)"
   ]
  },
  {
   "cell_type": "code",
   "execution_count": 10,
   "id": "787aa686",
   "metadata": {},
   "outputs": [
    {
     "data": {
      "text/plain": [
       "(1080, 77)"
      ]
     },
     "execution_count": 10,
     "metadata": {},
     "output_type": "execute_result"
    }
   ],
   "source": [
    "df1.shape"
   ]
  },
  {
   "cell_type": "code",
   "execution_count": 11,
   "id": "3a1810f0",
   "metadata": {},
   "outputs": [
    {
     "data": {
      "text/plain": [
       "pCFOS_N       75\n",
       "ELK_N         18\n",
       "Bcatenin_N    18\n",
       "MEK_N          7\n",
       "MTOR_N         3\n",
       "              ..\n",
       "ARC_N          0\n",
       "ERBB4_N        0\n",
       "nNOS_N         0\n",
       "Tau_N          0\n",
       "class          0\n",
       "Length: 77, dtype: int64"
      ]
     },
     "execution_count": 11,
     "metadata": {},
     "output_type": "execute_result"
    }
   ],
   "source": [
    "df1.isnull().sum().sort_values(ascending=False)"
   ]
  },
  {
   "cell_type": "code",
   "execution_count": 12,
   "id": "1c56f257",
   "metadata": {},
   "outputs": [
    {
     "data": {
      "text/plain": [
       "count    1005.000000\n",
       "mean        0.131053\n",
       "std         0.023863\n",
       "min         0.085419\n",
       "25%         0.113506\n",
       "50%         0.126523\n",
       "75%         0.143652\n",
       "max         0.256529\n",
       "Name: pCFOS_N, dtype: float64"
      ]
     },
     "execution_count": 12,
     "metadata": {},
     "output_type": "execute_result"
    }
   ],
   "source": [
    "df1['pCFOS_N'].describe()"
   ]
  },
  {
   "cell_type": "code",
   "execution_count": 13,
   "id": "d9237f26",
   "metadata": {},
   "outputs": [
    {
     "data": {
      "text/plain": [
       "count    1062.000000\n",
       "mean        1.173400\n",
       "std         0.335786\n",
       "min         0.497695\n",
       "25%         0.944435\n",
       "50%         1.096186\n",
       "75%         1.323581\n",
       "max         2.802948\n",
       "Name: ELK_N, dtype: float64"
      ]
     },
     "execution_count": 13,
     "metadata": {},
     "output_type": "execute_result"
    }
   ],
   "source": [
    "df1['ELK_N'].describe()"
   ]
  },
  {
   "cell_type": "code",
   "execution_count": 14,
   "id": "5e38240c",
   "metadata": {},
   "outputs": [
    {
     "data": {
      "text/plain": [
       "count    1062.000000\n",
       "mean        2.146550\n",
       "std         0.435742\n",
       "min         1.134886\n",
       "25%         1.826707\n",
       "50%         2.114769\n",
       "75%         2.423875\n",
       "max         3.680552\n",
       "Name: Bcatenin_N, dtype: float64"
      ]
     },
     "execution_count": 14,
     "metadata": {},
     "output_type": "execute_result"
    }
   ],
   "source": [
    "df1['Bcatenin_N'].describe()"
   ]
  },
  {
   "cell_type": "markdown",
   "id": "b34446f9",
   "metadata": {},
   "source": [
    "Replacing null values with mean."
   ]
  },
  {
   "cell_type": "code",
   "execution_count": 15,
   "id": "5bccba28",
   "metadata": {},
   "outputs": [],
   "source": [
    "df2 = df1.fillna(df1.mean())"
   ]
  },
  {
   "cell_type": "code",
   "execution_count": 16,
   "id": "a3fd343e",
   "metadata": {},
   "outputs": [
    {
     "data": {
      "text/plain": [
       "MouseID     0\n",
       "S6_N        0\n",
       "nNOS_N      0\n",
       "ERBB4_N     0\n",
       "ARC_N       0\n",
       "           ..\n",
       "ERK_N       0\n",
       "ELK_N       0\n",
       "CREB_N      0\n",
       "CAMKII_N    0\n",
       "class       0\n",
       "Length: 77, dtype: int64"
      ]
     },
     "execution_count": 16,
     "metadata": {},
     "output_type": "execute_result"
    }
   ],
   "source": [
    "df2.isnull().sum().sort_values(ascending=False)"
   ]
  },
  {
   "cell_type": "markdown",
   "id": "c32852a5",
   "metadata": {},
   "source": [
    "Checking for duplicates:"
   ]
  },
  {
   "cell_type": "code",
   "execution_count": 17,
   "id": "764c55d9",
   "metadata": {},
   "outputs": [
    {
     "name": "stdout",
     "output_type": "stream",
     "text": [
      "Empty DataFrame\n",
      "Columns: [MouseID, DYRK1A_N, ITSN1_N, BDNF_N, NR1_N, NR2A_N, pAKT_N, pBRAF_N, pCAMKII_N, pCREB_N, pELK_N, pERK_N, pJNK_N, PKCA_N, pMEK_N, pNR1_N, pNR2A_N, pNR2B_N, pPKCAB_N, pRSK_N, AKT_N, BRAF_N, CAMKII_N, CREB_N, ELK_N, ERK_N, GSK3B_N, JNK_N, MEK_N, TRKA_N, RSK_N, APP_N, Bcatenin_N, SOD1_N, MTOR_N, P38_N, pMTOR_N, DSCR1_N, AMPKA_N, NR2B_N, pNUMB_N, RAPTOR_N, TIAM1_N, pP70S6_N, NUMB_N, P70S6_N, pGSK3B_N, pPKCG_N, CDK5_N, S6_N, ADARB1_N, AcetylH3K9_N, RRP1_N, BAX_N, ARC_N, ERBB4_N, nNOS_N, Tau_N, GFAP_N, GluR3_N, GluR4_N, IL1B_N, P3525_N, pCASP9_N, PSD95_N, SNCA_N, Ubiquitin_N, pGSK3B_Tyr216_N, SHH_N, pS6_N, pCFOS_N, SYP_N, CaNA_N, Genotype, Treatment, Behavior, class]\n",
      "Index: []\n",
      "\n",
      "[0 rows x 77 columns]\n"
     ]
    },
    {
     "data": {
      "text/plain": [
       "1"
      ]
     },
     "execution_count": 17,
     "metadata": {},
     "output_type": "execute_result"
    }
   ],
   "source": [
    "duplicateRowsdf = df2[df2.duplicated()]\n",
    "print(duplicateRowsdf)\n",
    "1"
   ]
  },
  {
   "cell_type": "code",
   "execution_count": 18,
   "id": "ef6699fe",
   "metadata": {},
   "outputs": [
    {
     "data": {
      "text/html": [
       "<div>\n",
       "<style scoped>\n",
       "    .dataframe tbody tr th:only-of-type {\n",
       "        vertical-align: middle;\n",
       "    }\n",
       "\n",
       "    .dataframe tbody tr th {\n",
       "        vertical-align: top;\n",
       "    }\n",
       "\n",
       "    .dataframe thead th {\n",
       "        text-align: right;\n",
       "    }\n",
       "</style>\n",
       "<table border=\"1\" class=\"dataframe\">\n",
       "  <thead>\n",
       "    <tr style=\"text-align: right;\">\n",
       "      <th></th>\n",
       "      <th>DYRK1A_N</th>\n",
       "      <th>ITSN1_N</th>\n",
       "      <th>BDNF_N</th>\n",
       "      <th>NR1_N</th>\n",
       "      <th>NR2A_N</th>\n",
       "      <th>pAKT_N</th>\n",
       "      <th>pBRAF_N</th>\n",
       "      <th>pCAMKII_N</th>\n",
       "      <th>pCREB_N</th>\n",
       "      <th>pELK_N</th>\n",
       "      <th>...</th>\n",
       "      <th>pCASP9_N</th>\n",
       "      <th>PSD95_N</th>\n",
       "      <th>SNCA_N</th>\n",
       "      <th>Ubiquitin_N</th>\n",
       "      <th>pGSK3B_Tyr216_N</th>\n",
       "      <th>SHH_N</th>\n",
       "      <th>pS6_N</th>\n",
       "      <th>pCFOS_N</th>\n",
       "      <th>SYP_N</th>\n",
       "      <th>CaNA_N</th>\n",
       "    </tr>\n",
       "  </thead>\n",
       "  <tbody>\n",
       "    <tr>\n",
       "      <th>count</th>\n",
       "      <td>1080.000000</td>\n",
       "      <td>1080.000000</td>\n",
       "      <td>1080.000000</td>\n",
       "      <td>1080.000000</td>\n",
       "      <td>1080.000000</td>\n",
       "      <td>1080.000000</td>\n",
       "      <td>1080.000000</td>\n",
       "      <td>1080.000000</td>\n",
       "      <td>1080.000000</td>\n",
       "      <td>1080.000000</td>\n",
       "      <td>...</td>\n",
       "      <td>1080.000000</td>\n",
       "      <td>1080.000000</td>\n",
       "      <td>1080.000000</td>\n",
       "      <td>1080.000000</td>\n",
       "      <td>1080.000000</td>\n",
       "      <td>1080.000000</td>\n",
       "      <td>1080.000000</td>\n",
       "      <td>1080.000000</td>\n",
       "      <td>1080.000000</td>\n",
       "      <td>1080.000000</td>\n",
       "    </tr>\n",
       "    <tr>\n",
       "      <th>mean</th>\n",
       "      <td>0.425810</td>\n",
       "      <td>0.617102</td>\n",
       "      <td>0.319088</td>\n",
       "      <td>2.297269</td>\n",
       "      <td>3.843934</td>\n",
       "      <td>0.233168</td>\n",
       "      <td>0.181846</td>\n",
       "      <td>3.537109</td>\n",
       "      <td>0.212574</td>\n",
       "      <td>1.428682</td>\n",
       "      <td>...</td>\n",
       "      <td>1.548348</td>\n",
       "      <td>2.235236</td>\n",
       "      <td>0.159821</td>\n",
       "      <td>1.239270</td>\n",
       "      <td>0.848767</td>\n",
       "      <td>0.226676</td>\n",
       "      <td>0.121521</td>\n",
       "      <td>0.131053</td>\n",
       "      <td>0.446073</td>\n",
       "      <td>1.337784</td>\n",
       "    </tr>\n",
       "    <tr>\n",
       "      <th>std</th>\n",
       "      <td>0.249015</td>\n",
       "      <td>0.251290</td>\n",
       "      <td>0.049314</td>\n",
       "      <td>0.346810</td>\n",
       "      <td>0.931802</td>\n",
       "      <td>0.041577</td>\n",
       "      <td>0.027004</td>\n",
       "      <td>1.293368</td>\n",
       "      <td>0.032542</td>\n",
       "      <td>0.466254</td>\n",
       "      <td>...</td>\n",
       "      <td>0.248132</td>\n",
       "      <td>0.254395</td>\n",
       "      <td>0.024150</td>\n",
       "      <td>0.173580</td>\n",
       "      <td>0.094311</td>\n",
       "      <td>0.028989</td>\n",
       "      <td>0.014276</td>\n",
       "      <td>0.023018</td>\n",
       "      <td>0.066432</td>\n",
       "      <td>0.317126</td>\n",
       "    </tr>\n",
       "    <tr>\n",
       "      <th>min</th>\n",
       "      <td>0.145327</td>\n",
       "      <td>0.245359</td>\n",
       "      <td>0.115181</td>\n",
       "      <td>1.330831</td>\n",
       "      <td>1.737540</td>\n",
       "      <td>0.063236</td>\n",
       "      <td>0.064043</td>\n",
       "      <td>1.343998</td>\n",
       "      <td>0.112812</td>\n",
       "      <td>0.429032</td>\n",
       "      <td>...</td>\n",
       "      <td>0.853176</td>\n",
       "      <td>1.206098</td>\n",
       "      <td>0.101233</td>\n",
       "      <td>0.750664</td>\n",
       "      <td>0.577397</td>\n",
       "      <td>0.155869</td>\n",
       "      <td>0.067254</td>\n",
       "      <td>0.085419</td>\n",
       "      <td>0.258626</td>\n",
       "      <td>0.586479</td>\n",
       "    </tr>\n",
       "    <tr>\n",
       "      <th>25%</th>\n",
       "      <td>0.288163</td>\n",
       "      <td>0.473669</td>\n",
       "      <td>0.287650</td>\n",
       "      <td>2.059152</td>\n",
       "      <td>3.160287</td>\n",
       "      <td>0.205821</td>\n",
       "      <td>0.164619</td>\n",
       "      <td>2.479861</td>\n",
       "      <td>0.190828</td>\n",
       "      <td>1.206389</td>\n",
       "      <td>...</td>\n",
       "      <td>1.375598</td>\n",
       "      <td>2.079338</td>\n",
       "      <td>0.142838</td>\n",
       "      <td>1.116262</td>\n",
       "      <td>0.793739</td>\n",
       "      <td>0.206395</td>\n",
       "      <td>0.110839</td>\n",
       "      <td>0.114373</td>\n",
       "      <td>0.398082</td>\n",
       "      <td>1.081423</td>\n",
       "    </tr>\n",
       "    <tr>\n",
       "      <th>50%</th>\n",
       "      <td>0.366540</td>\n",
       "      <td>0.566365</td>\n",
       "      <td>0.316703</td>\n",
       "      <td>2.297269</td>\n",
       "      <td>3.763306</td>\n",
       "      <td>0.231246</td>\n",
       "      <td>0.182270</td>\n",
       "      <td>3.329624</td>\n",
       "      <td>0.210681</td>\n",
       "      <td>1.356368</td>\n",
       "      <td>...</td>\n",
       "      <td>1.522693</td>\n",
       "      <td>2.242197</td>\n",
       "      <td>0.157549</td>\n",
       "      <td>1.236586</td>\n",
       "      <td>0.849858</td>\n",
       "      <td>0.224000</td>\n",
       "      <td>0.121626</td>\n",
       "      <td>0.128466</td>\n",
       "      <td>0.448459</td>\n",
       "      <td>1.317441</td>\n",
       "    </tr>\n",
       "    <tr>\n",
       "      <th>75%</th>\n",
       "      <td>0.487574</td>\n",
       "      <td>0.697500</td>\n",
       "      <td>0.348039</td>\n",
       "      <td>2.528035</td>\n",
       "      <td>4.425107</td>\n",
       "      <td>0.257225</td>\n",
       "      <td>0.197226</td>\n",
       "      <td>4.480652</td>\n",
       "      <td>0.234558</td>\n",
       "      <td>1.560931</td>\n",
       "      <td>...</td>\n",
       "      <td>1.713087</td>\n",
       "      <td>2.420226</td>\n",
       "      <td>0.173303</td>\n",
       "      <td>1.363079</td>\n",
       "      <td>0.916173</td>\n",
       "      <td>0.241655</td>\n",
       "      <td>0.131955</td>\n",
       "      <td>0.142427</td>\n",
       "      <td>0.490773</td>\n",
       "      <td>1.585824</td>\n",
       "    </tr>\n",
       "    <tr>\n",
       "      <th>max</th>\n",
       "      <td>2.516367</td>\n",
       "      <td>2.602662</td>\n",
       "      <td>0.497160</td>\n",
       "      <td>3.757641</td>\n",
       "      <td>8.482553</td>\n",
       "      <td>0.539050</td>\n",
       "      <td>0.317066</td>\n",
       "      <td>7.464070</td>\n",
       "      <td>0.306247</td>\n",
       "      <td>6.113347</td>\n",
       "      <td>...</td>\n",
       "      <td>2.586216</td>\n",
       "      <td>2.877873</td>\n",
       "      <td>0.257616</td>\n",
       "      <td>1.897202</td>\n",
       "      <td>1.204598</td>\n",
       "      <td>0.358289</td>\n",
       "      <td>0.158748</td>\n",
       "      <td>0.256529</td>\n",
       "      <td>0.759588</td>\n",
       "      <td>2.129791</td>\n",
       "    </tr>\n",
       "  </tbody>\n",
       "</table>\n",
       "<p>8 rows × 72 columns</p>\n",
       "</div>"
      ],
      "text/plain": [
       "          DYRK1A_N      ITSN1_N       BDNF_N        NR1_N       NR2A_N  \\\n",
       "count  1080.000000  1080.000000  1080.000000  1080.000000  1080.000000   \n",
       "mean      0.425810     0.617102     0.319088     2.297269     3.843934   \n",
       "std       0.249015     0.251290     0.049314     0.346810     0.931802   \n",
       "min       0.145327     0.245359     0.115181     1.330831     1.737540   \n",
       "25%       0.288163     0.473669     0.287650     2.059152     3.160287   \n",
       "50%       0.366540     0.566365     0.316703     2.297269     3.763306   \n",
       "75%       0.487574     0.697500     0.348039     2.528035     4.425107   \n",
       "max       2.516367     2.602662     0.497160     3.757641     8.482553   \n",
       "\n",
       "            pAKT_N      pBRAF_N    pCAMKII_N      pCREB_N       pELK_N  ...  \\\n",
       "count  1080.000000  1080.000000  1080.000000  1080.000000  1080.000000  ...   \n",
       "mean      0.233168     0.181846     3.537109     0.212574     1.428682  ...   \n",
       "std       0.041577     0.027004     1.293368     0.032542     0.466254  ...   \n",
       "min       0.063236     0.064043     1.343998     0.112812     0.429032  ...   \n",
       "25%       0.205821     0.164619     2.479861     0.190828     1.206389  ...   \n",
       "50%       0.231246     0.182270     3.329624     0.210681     1.356368  ...   \n",
       "75%       0.257225     0.197226     4.480652     0.234558     1.560931  ...   \n",
       "max       0.539050     0.317066     7.464070     0.306247     6.113347  ...   \n",
       "\n",
       "          pCASP9_N      PSD95_N       SNCA_N  Ubiquitin_N  pGSK3B_Tyr216_N  \\\n",
       "count  1080.000000  1080.000000  1080.000000  1080.000000      1080.000000   \n",
       "mean      1.548348     2.235236     0.159821     1.239270         0.848767   \n",
       "std       0.248132     0.254395     0.024150     0.173580         0.094311   \n",
       "min       0.853176     1.206098     0.101233     0.750664         0.577397   \n",
       "25%       1.375598     2.079338     0.142838     1.116262         0.793739   \n",
       "50%       1.522693     2.242197     0.157549     1.236586         0.849858   \n",
       "75%       1.713087     2.420226     0.173303     1.363079         0.916173   \n",
       "max       2.586216     2.877873     0.257616     1.897202         1.204598   \n",
       "\n",
       "             SHH_N        pS6_N      pCFOS_N        SYP_N       CaNA_N  \n",
       "count  1080.000000  1080.000000  1080.000000  1080.000000  1080.000000  \n",
       "mean      0.226676     0.121521     0.131053     0.446073     1.337784  \n",
       "std       0.028989     0.014276     0.023018     0.066432     0.317126  \n",
       "min       0.155869     0.067254     0.085419     0.258626     0.586479  \n",
       "25%       0.206395     0.110839     0.114373     0.398082     1.081423  \n",
       "50%       0.224000     0.121626     0.128466     0.448459     1.317441  \n",
       "75%       0.241655     0.131955     0.142427     0.490773     1.585824  \n",
       "max       0.358289     0.158748     0.256529     0.759588     2.129791  \n",
       "\n",
       "[8 rows x 72 columns]"
      ]
     },
     "execution_count": 18,
     "metadata": {},
     "output_type": "execute_result"
    }
   ],
   "source": [
    "df2.describe()"
   ]
  },
  {
   "cell_type": "code",
   "execution_count": 19,
   "id": "82bb6851",
   "metadata": {},
   "outputs": [
    {
     "data": {
      "text/html": [
       "<div>\n",
       "<style scoped>\n",
       "    .dataframe tbody tr th:only-of-type {\n",
       "        vertical-align: middle;\n",
       "    }\n",
       "\n",
       "    .dataframe tbody tr th {\n",
       "        vertical-align: top;\n",
       "    }\n",
       "\n",
       "    .dataframe thead th {\n",
       "        text-align: right;\n",
       "    }\n",
       "</style>\n",
       "<table border=\"1\" class=\"dataframe\">\n",
       "  <thead>\n",
       "    <tr style=\"text-align: right;\">\n",
       "      <th></th>\n",
       "      <th>MouseID</th>\n",
       "      <th>Genotype</th>\n",
       "      <th>Treatment</th>\n",
       "      <th>Behavior</th>\n",
       "      <th>class</th>\n",
       "    </tr>\n",
       "  </thead>\n",
       "  <tbody>\n",
       "    <tr>\n",
       "      <th>count</th>\n",
       "      <td>1080</td>\n",
       "      <td>1080</td>\n",
       "      <td>1080</td>\n",
       "      <td>1080</td>\n",
       "      <td>1080</td>\n",
       "    </tr>\n",
       "    <tr>\n",
       "      <th>unique</th>\n",
       "      <td>1080</td>\n",
       "      <td>2</td>\n",
       "      <td>2</td>\n",
       "      <td>2</td>\n",
       "      <td>8</td>\n",
       "    </tr>\n",
       "    <tr>\n",
       "      <th>top</th>\n",
       "      <td>309_1</td>\n",
       "      <td>Control</td>\n",
       "      <td>Memantine</td>\n",
       "      <td>S/C</td>\n",
       "      <td>c-CS-m</td>\n",
       "    </tr>\n",
       "    <tr>\n",
       "      <th>freq</th>\n",
       "      <td>1</td>\n",
       "      <td>570</td>\n",
       "      <td>570</td>\n",
       "      <td>555</td>\n",
       "      <td>150</td>\n",
       "    </tr>\n",
       "  </tbody>\n",
       "</table>\n",
       "</div>"
      ],
      "text/plain": [
       "       MouseID Genotype  Treatment Behavior   class\n",
       "count     1080     1080       1080     1080    1080\n",
       "unique    1080        2          2        2       8\n",
       "top      309_1  Control  Memantine      S/C  c-CS-m\n",
       "freq         1      570        570      555     150"
      ]
     },
     "execution_count": 19,
     "metadata": {},
     "output_type": "execute_result"
    }
   ],
   "source": [
    "df2.describe(include='object')"
   ]
  },
  {
   "cell_type": "markdown",
   "id": "b924adae",
   "metadata": {},
   "source": [
    "Dropping MouseID:"
   ]
  },
  {
   "cell_type": "code",
   "execution_count": 20,
   "id": "fc5718d1",
   "metadata": {},
   "outputs": [],
   "source": [
    "df2 = df2.drop('MouseID', axis=1)"
   ]
  },
  {
   "cell_type": "code",
   "execution_count": 21,
   "id": "129367c9",
   "metadata": {},
   "outputs": [
    {
     "name": "stdout",
     "output_type": "stream",
     "text": [
      "Control    570\n",
      "Ts65Dn     510\n",
      "Name: Genotype, dtype: int64\n"
     ]
    },
    {
     "data": {
      "text/plain": [
       "Text(0.5, 1.0, 'Distribution of Genotype')"
      ]
     },
     "execution_count": 21,
     "metadata": {},
     "output_type": "execute_result"
    },
    {
     "data": {
      "image/png": "[encoded data removed]",
      "text/plain": [
       "<Figure size 432x288 with 1 Axes>"
      ]
     },
     "metadata": {
      "needs_background": "light"
     },
     "output_type": "display_data"
    }
   ],
   "source": [
    "print(df2['Genotype'].value_counts())\n",
    "ax = sns.countplot(x='Genotype',data=df2, palette='afmhot')\n",
    "ax.set_title('Distribution of Genotype')"
   ]
  },
  {
   "cell_type": "code",
   "execution_count": 22,
   "id": "21eabc63",
   "metadata": {},
   "outputs": [
    {
     "name": "stdout",
     "output_type": "stream",
     "text": [
      "Memantine    570\n",
      "Saline       510\n",
      "Name: Treatment, dtype: int64\n"
     ]
    },
    {
     "data": {
      "text/plain": [
       "Text(0.5, 1.0, 'Distribution of Treatment')"
      ]
     },
     "execution_count": 22,
     "metadata": {},
     "output_type": "execute_result"
    },
    {
     "data": {
      "image/png": "[encoded data removed]",
      "text/plain": [
       "<Figure size 432x288 with 1 Axes>"
      ]
     },
     "metadata": {
      "needs_background": "light"
     },
     "output_type": "display_data"
    }
   ],
   "source": [
    "print(df2['Treatment'].value_counts())\n",
    "ax = sns.countplot(x='Treatment',data=df2, palette='afmhot')\n",
    "ax.set_title('Distribution of Treatment')"
   ]
  },
  {
   "cell_type": "code",
   "execution_count": 23,
   "id": "11d88dde",
   "metadata": {},
   "outputs": [
    {
     "name": "stdout",
     "output_type": "stream",
     "text": [
      "S/C    555\n",
      "C/S    525\n",
      "Name: Behavior, dtype: int64\n"
     ]
    },
    {
     "data": {
      "text/plain": [
       "Text(0.5, 1.0, 'Distribution of Behavior')"
      ]
     },
     "execution_count": 23,
     "metadata": {},
     "output_type": "execute_result"
    },
    {
     "data": {
      "image/png": "[encoded data removed]",
      "text/plain": [
       "<Figure size 432x288 with 1 Axes>"
      ]
     },
     "metadata": {
      "needs_background": "light"
     },
     "output_type": "display_data"
    }
   ],
   "source": [
    "print(df2['Behavior'].value_counts())\n",
    "ax = sns.countplot(x='Behavior',data=df2, palette='afmhot')\n",
    "ax.set_title('Distribution of Behavior')"
   ]
  },
  {
   "cell_type": "code",
   "execution_count": 24,
   "id": "45df8d5c",
   "metadata": {},
   "outputs": [
    {
     "name": "stdout",
     "output_type": "stream",
     "text": [
      "c-CS-m    150\n",
      "c-SC-m    150\n",
      "c-CS-s    135\n",
      "c-SC-s    135\n",
      "t-CS-m    135\n",
      "t-SC-m    135\n",
      "t-SC-s    135\n",
      "t-CS-s    105\n",
      "Name: class, dtype: int64\n"
     ]
    },
    {
     "data": {
      "text/plain": [
       "Text(0.5, 1.0, 'Distribution of Class')"
      ]
     },
     "execution_count": 24,
     "metadata": {},
     "output_type": "execute_result"
    },
    {
     "data": {
      "image/png": "[encoded data removed]",
      "text/plain": [
       "<Figure size 432x288 with 1 Axes>"
      ]
     },
     "metadata": {
      "needs_background": "light"
     },
     "output_type": "display_data"
    }
   ],
   "source": [
    "print(df2['class'].value_counts())\n",
    "ax = sns.countplot(x='class',data=df2, palette='afmhot')\n",
    "ax.set_title('Distribution of Class')"
   ]
  },
  {
   "cell_type": "markdown",
   "id": "ebe0d2e1",
   "metadata": {},
   "source": [
    "#### Spliting data into independent variables and target data:"
   ]
  },
  {
   "cell_type": "code",
   "execution_count": 25,
   "id": "723e6a9c",
   "metadata": {},
   "outputs": [],
   "source": [
    "X = df2.drop('class',axis=1)\n",
    "y1 = df2[['class']]"
   ]
  },
  {
   "cell_type": "markdown",
   "id": "15327d48",
   "metadata": {},
   "source": [
    "#### Encoding"
   ]
  },
  {
   "cell_type": "markdown",
   "id": "176b87b2",
   "metadata": {},
   "source": [
    "Now is the time to encode categorical data into numerical."
   ]
  },
  {
   "cell_type": "code",
   "execution_count": 26,
   "id": "0f9ce1b9",
   "metadata": {},
   "outputs": [
    {
     "data": {
      "text/html": [
       "<div>\n",
       "<style scoped>\n",
       "    .dataframe tbody tr th:only-of-type {\n",
       "        vertical-align: middle;\n",
       "    }\n",
       "\n",
       "    .dataframe tbody tr th {\n",
       "        vertical-align: top;\n",
       "    }\n",
       "\n",
       "    .dataframe thead th {\n",
       "        text-align: right;\n",
       "    }\n",
       "</style>\n",
       "<table border=\"1\" class=\"dataframe\">\n",
       "  <thead>\n",
       "    <tr style=\"text-align: right;\">\n",
       "      <th></th>\n",
       "      <th>class</th>\n",
       "    </tr>\n",
       "  </thead>\n",
       "  <tbody>\n",
       "    <tr>\n",
       "      <th>0</th>\n",
       "      <td>0</td>\n",
       "    </tr>\n",
       "    <tr>\n",
       "      <th>1</th>\n",
       "      <td>0</td>\n",
       "    </tr>\n",
       "    <tr>\n",
       "      <th>2</th>\n",
       "      <td>0</td>\n",
       "    </tr>\n",
       "    <tr>\n",
       "      <th>3</th>\n",
       "      <td>0</td>\n",
       "    </tr>\n",
       "    <tr>\n",
       "      <th>4</th>\n",
       "      <td>0</td>\n",
       "    </tr>\n",
       "  </tbody>\n",
       "</table>\n",
       "</div>"
      ],
      "text/plain": [
       "   class\n",
       "0      0\n",
       "1      0\n",
       "2      0\n",
       "3      0\n",
       "4      0"
      ]
     },
     "execution_count": 26,
     "metadata": {},
     "output_type": "execute_result"
    }
   ],
   "source": [
    "classes = {\"class\":     {\"c-CS-m\": 0, \"c-SC-m\": 1, 'c-CS-s': 2, 'c-SC-s': 3, 't-CS-m':4, 't-SC-m':5,\n",
    "                            't-SC-s':6, 't-CS-s':7}}\n",
    "y = y1.replace(classes)\n",
    "y.head()"
   ]
  },
  {
   "cell_type": "code",
   "execution_count": 27,
   "id": "7e7823fc",
   "metadata": {},
   "outputs": [],
   "source": [
    "y = pd.DataFrame(y)"
   ]
  },
  {
   "cell_type": "code",
   "execution_count": 28,
   "id": "b9652d11",
   "metadata": {},
   "outputs": [
    {
     "data": {
      "text/html": [
       "<div>\n",
       "<style scoped>\n",
       "    .dataframe tbody tr th:only-of-type {\n",
       "        vertical-align: middle;\n",
       "    }\n",
       "\n",
       "    .dataframe tbody tr th {\n",
       "        vertical-align: top;\n",
       "    }\n",
       "\n",
       "    .dataframe thead th {\n",
       "        text-align: right;\n",
       "    }\n",
       "</style>\n",
       "<table border=\"1\" class=\"dataframe\">\n",
       "  <thead>\n",
       "    <tr style=\"text-align: right;\">\n",
       "      <th></th>\n",
       "      <th>index</th>\n",
       "      <th>class</th>\n",
       "    </tr>\n",
       "  </thead>\n",
       "  <tbody>\n",
       "    <tr>\n",
       "      <th>0</th>\n",
       "      <td>0</td>\n",
       "      <td>0</td>\n",
       "    </tr>\n",
       "    <tr>\n",
       "      <th>1</th>\n",
       "      <td>1</td>\n",
       "      <td>0</td>\n",
       "    </tr>\n",
       "    <tr>\n",
       "      <th>2</th>\n",
       "      <td>2</td>\n",
       "      <td>0</td>\n",
       "    </tr>\n",
       "    <tr>\n",
       "      <th>3</th>\n",
       "      <td>3</td>\n",
       "      <td>0</td>\n",
       "    </tr>\n",
       "    <tr>\n",
       "      <th>4</th>\n",
       "      <td>4</td>\n",
       "      <td>0</td>\n",
       "    </tr>\n",
       "    <tr>\n",
       "      <th>...</th>\n",
       "      <td>...</td>\n",
       "      <td>...</td>\n",
       "    </tr>\n",
       "    <tr>\n",
       "      <th>1075</th>\n",
       "      <td>1075</td>\n",
       "      <td>6</td>\n",
       "    </tr>\n",
       "    <tr>\n",
       "      <th>1076</th>\n",
       "      <td>1076</td>\n",
       "      <td>6</td>\n",
       "    </tr>\n",
       "    <tr>\n",
       "      <th>1077</th>\n",
       "      <td>1077</td>\n",
       "      <td>6</td>\n",
       "    </tr>\n",
       "    <tr>\n",
       "      <th>1078</th>\n",
       "      <td>1078</td>\n",
       "      <td>6</td>\n",
       "    </tr>\n",
       "    <tr>\n",
       "      <th>1079</th>\n",
       "      <td>1079</td>\n",
       "      <td>6</td>\n",
       "    </tr>\n",
       "  </tbody>\n",
       "</table>\n",
       "<p>1080 rows × 2 columns</p>\n",
       "</div>"
      ],
      "text/plain": [
       "      index  class\n",
       "0         0      0\n",
       "1         1      0\n",
       "2         2      0\n",
       "3         3      0\n",
       "4         4      0\n",
       "...     ...    ...\n",
       "1075   1075      6\n",
       "1076   1076      6\n",
       "1077   1077      6\n",
       "1078   1078      6\n",
       "1079   1079      6\n",
       "\n",
       "[1080 rows x 2 columns]"
      ]
     },
     "execution_count": 28,
     "metadata": {},
     "output_type": "execute_result"
    }
   ],
   "source": [
    "y.reset_index()\n"
   ]
  },
  {
   "cell_type": "code",
   "execution_count": 29,
   "id": "3703fad1",
   "metadata": {},
   "outputs": [
    {
     "data": {
      "text/plain": [
       "Index(['class'], dtype='object')"
      ]
     },
     "execution_count": 29,
     "metadata": {},
     "output_type": "execute_result"
    }
   ],
   "source": [
    "y.columns"
   ]
  },
  {
   "cell_type": "code",
   "execution_count": 30,
   "id": "d35bfdad",
   "metadata": {},
   "outputs": [
    {
     "data": {
      "text/plain": [
       "0    150\n",
       "1    150\n",
       "2    135\n",
       "3    135\n",
       "4    135\n",
       "5    135\n",
       "6    135\n",
       "7    105\n",
       "Name: class, dtype: int64"
      ]
     },
     "execution_count": 30,
     "metadata": {},
     "output_type": "execute_result"
    }
   ],
   "source": [
    "y['class'].value_counts()"
   ]
  },
  {
   "cell_type": "code",
   "execution_count": 31,
   "id": "0a1fd3e2",
   "metadata": {},
   "outputs": [
    {
     "name": "stdout",
     "output_type": "stream",
     "text": [
      "<class 'pandas.core.frame.DataFrame'>\n",
      "RangeIndex: 1080 entries, 0 to 1079\n",
      "Data columns (total 1 columns):\n",
      " #   Column  Non-Null Count  Dtype\n",
      "---  ------  --------------  -----\n",
      " 0   class   1080 non-null   int64\n",
      "dtypes: int64(1)\n",
      "memory usage: 8.6 KB\n"
     ]
    }
   ],
   "source": [
    "y.info()"
   ]
  },
  {
   "cell_type": "code",
   "execution_count": 32,
   "id": "2af4a90b",
   "metadata": {},
   "outputs": [],
   "source": [
    "X = pd.get_dummies(data=X,columns=[\"Treatment\",\"Behavior\", \"Genotype\"])\n"
   ]
  },
  {
   "cell_type": "code",
   "execution_count": 33,
   "id": "32ad1bfe",
   "metadata": {},
   "outputs": [
    {
     "name": "stdout",
     "output_type": "stream",
     "text": [
      "<class 'pandas.core.frame.DataFrame'>\n",
      "RangeIndex: 1080 entries, 0 to 1079\n",
      "Data columns (total 78 columns):\n",
      " #   Column               Non-Null Count  Dtype  \n",
      "---  ------               --------------  -----  \n",
      " 0   DYRK1A_N             1080 non-null   float64\n",
      " 1   ITSN1_N              1080 non-null   float64\n",
      " 2   BDNF_N               1080 non-null   float64\n",
      " 3   NR1_N                1080 non-null   float64\n",
      " 4   NR2A_N               1080 non-null   float64\n",
      " 5   pAKT_N               1080 non-null   float64\n",
      " 6   pBRAF_N              1080 non-null   float64\n",
      " 7   pCAMKII_N            1080 non-null   float64\n",
      " 8   pCREB_N              1080 non-null   float64\n",
      " 9   pELK_N               1080 non-null   float64\n",
      " 10  pERK_N               1080 non-null   float64\n",
      " 11  pJNK_N               1080 non-null   float64\n",
      " 12  PKCA_N               1080 non-null   float64\n",
      " 13  pMEK_N               1080 non-null   float64\n",
      " 14  pNR1_N               1080 non-null   float64\n",
      " 15  pNR2A_N              1080 non-null   float64\n",
      " 16  pNR2B_N              1080 non-null   float64\n",
      " 17  pPKCAB_N             1080 non-null   float64\n",
      " 18  pRSK_N               1080 non-null   float64\n",
      " 19  AKT_N                1080 non-null   float64\n",
      " 20  BRAF_N               1080 non-null   float64\n",
      " 21  CAMKII_N             1080 non-null   float64\n",
      " 22  CREB_N               1080 non-null   float64\n",
      " 23  ELK_N                1080 non-null   float64\n",
      " 24  ERK_N                1080 non-null   float64\n",
      " 25  GSK3B_N              1080 non-null   float64\n",
      " 26  JNK_N                1080 non-null   float64\n",
      " 27  MEK_N                1080 non-null   float64\n",
      " 28  TRKA_N               1080 non-null   float64\n",
      " 29  RSK_N                1080 non-null   float64\n",
      " 30  APP_N                1080 non-null   float64\n",
      " 31  Bcatenin_N           1080 non-null   float64\n",
      " 32  SOD1_N               1080 non-null   float64\n",
      " 33  MTOR_N               1080 non-null   float64\n",
      " 34  P38_N                1080 non-null   float64\n",
      " 35  pMTOR_N              1080 non-null   float64\n",
      " 36  DSCR1_N              1080 non-null   float64\n",
      " 37  AMPKA_N              1080 non-null   float64\n",
      " 38  NR2B_N               1080 non-null   float64\n",
      " 39  pNUMB_N              1080 non-null   float64\n",
      " 40  RAPTOR_N             1080 non-null   float64\n",
      " 41  TIAM1_N              1080 non-null   float64\n",
      " 42  pP70S6_N             1080 non-null   float64\n",
      " 43  NUMB_N               1080 non-null   float64\n",
      " 44  P70S6_N              1080 non-null   float64\n",
      " 45  pGSK3B_N             1080 non-null   float64\n",
      " 46  pPKCG_N              1080 non-null   float64\n",
      " 47  CDK5_N               1080 non-null   float64\n",
      " 48  S6_N                 1080 non-null   float64\n",
      " 49  ADARB1_N             1080 non-null   float64\n",
      " 50  AcetylH3K9_N         1080 non-null   float64\n",
      " 51  RRP1_N               1080 non-null   float64\n",
      " 52  BAX_N                1080 non-null   float64\n",
      " 53  ARC_N                1080 non-null   float64\n",
      " 54  ERBB4_N              1080 non-null   float64\n",
      " 55  nNOS_N               1080 non-null   float64\n",
      " 56  Tau_N                1080 non-null   float64\n",
      " 57  GFAP_N               1080 non-null   float64\n",
      " 58  GluR3_N              1080 non-null   float64\n",
      " 59  GluR4_N              1080 non-null   float64\n",
      " 60  IL1B_N               1080 non-null   float64\n",
      " 61  P3525_N              1080 non-null   float64\n",
      " 62  pCASP9_N             1080 non-null   float64\n",
      " 63  PSD95_N              1080 non-null   float64\n",
      " 64  SNCA_N               1080 non-null   float64\n",
      " 65  Ubiquitin_N          1080 non-null   float64\n",
      " 66  pGSK3B_Tyr216_N      1080 non-null   float64\n",
      " 67  SHH_N                1080 non-null   float64\n",
      " 68  pS6_N                1080 non-null   float64\n",
      " 69  pCFOS_N              1080 non-null   float64\n",
      " 70  SYP_N                1080 non-null   float64\n",
      " 71  CaNA_N               1080 non-null   float64\n",
      " 72  Treatment_Memantine  1080 non-null   uint8  \n",
      " 73  Treatment_Saline     1080 non-null   uint8  \n",
      " 74  Behavior_C/S         1080 non-null   uint8  \n",
      " 75  Behavior_S/C         1080 non-null   uint8  \n",
      " 76  Genotype_Control     1080 non-null   uint8  \n",
      " 77  Genotype_Ts65Dn      1080 non-null   uint8  \n",
      "dtypes: float64(72), uint8(6)\n",
      "memory usage: 614.0 KB\n"
     ]
    }
   ],
   "source": [
    "X.info()"
   ]
  },
  {
   "cell_type": "markdown",
   "id": "cf799b47",
   "metadata": {},
   "source": [
    "#### Scaling of the data:"
   ]
  },
  {
   "cell_type": "code",
   "execution_count": 34,
   "id": "7b65d098",
   "metadata": {},
   "outputs": [],
   "source": [
    "from sklearn.preprocessing import MinMaxScaler\n",
    "scaler = MinMaxScaler()\n",
    "\n",
    "df_scaled = scaler.fit_transform(X)"
   ]
  },
  {
   "cell_type": "code",
   "execution_count": 35,
   "id": "c589b6c0",
   "metadata": {},
   "outputs": [],
   "source": [
    "df_scaled = pd.DataFrame(df_scaled)"
   ]
  },
  {
   "cell_type": "code",
   "execution_count": 36,
   "id": "c2ffd3f8",
   "metadata": {},
   "outputs": [
    {
     "data": {
      "text/html": [
       "<div>\n",
       "<style scoped>\n",
       "    .dataframe tbody tr th:only-of-type {\n",
       "        vertical-align: middle;\n",
       "    }\n",
       "\n",
       "    .dataframe tbody tr th {\n",
       "        vertical-align: top;\n",
       "    }\n",
       "\n",
       "    .dataframe thead th {\n",
       "        text-align: right;\n",
       "    }\n",
       "</style>\n",
       "<table border=\"1\" class=\"dataframe\">\n",
       "  <thead>\n",
       "    <tr style=\"text-align: right;\">\n",
       "      <th></th>\n",
       "      <th>0</th>\n",
       "      <th>1</th>\n",
       "      <th>2</th>\n",
       "      <th>3</th>\n",
       "      <th>4</th>\n",
       "      <th>5</th>\n",
       "      <th>6</th>\n",
       "      <th>7</th>\n",
       "      <th>8</th>\n",
       "      <th>9</th>\n",
       "      <th>...</th>\n",
       "      <th>68</th>\n",
       "      <th>69</th>\n",
       "      <th>70</th>\n",
       "      <th>71</th>\n",
       "      <th>72</th>\n",
       "      <th>73</th>\n",
       "      <th>74</th>\n",
       "      <th>75</th>\n",
       "      <th>76</th>\n",
       "      <th>77</th>\n",
       "    </tr>\n",
       "  </thead>\n",
       "  <tbody>\n",
       "    <tr>\n",
       "      <th>0</th>\n",
       "      <td>0.151122</td>\n",
       "      <td>0.212885</td>\n",
       "      <td>0.824638</td>\n",
       "      <td>0.612119</td>\n",
       "      <td>0.630482</td>\n",
       "      <td>0.327006</td>\n",
       "      <td>0.448666</td>\n",
       "      <td>0.168257</td>\n",
       "      <td>0.617322</td>\n",
       "      <td>0.232553</td>\n",
       "      <td>...</td>\n",
       "      <td>0.426816</td>\n",
       "      <td>0.133930</td>\n",
       "      <td>0.336299</td>\n",
       "      <td>0.705738</td>\n",
       "      <td>1.0</td>\n",
       "      <td>0.0</td>\n",
       "      <td>1.0</td>\n",
       "      <td>0.0</td>\n",
       "      <td>1.0</td>\n",
       "      <td>0.0</td>\n",
       "    </tr>\n",
       "    <tr>\n",
       "      <th>1</th>\n",
       "      <td>0.155750</td>\n",
       "      <td>0.188226</td>\n",
       "      <td>0.776455</td>\n",
       "      <td>0.601070</td>\n",
       "      <td>0.585247</td>\n",
       "      <td>0.311887</td>\n",
       "      <td>0.429899</td>\n",
       "      <td>0.154925</td>\n",
       "      <td>0.590173</td>\n",
       "      <td>0.205362</td>\n",
       "      <td>...</td>\n",
       "      <td>0.429952</td>\n",
       "      <td>0.110434</td>\n",
       "      <td>0.365208</td>\n",
       "      <td>0.749771</td>\n",
       "      <td>1.0</td>\n",
       "      <td>0.0</td>\n",
       "      <td>1.0</td>\n",
       "      <td>0.0</td>\n",
       "      <td>1.0</td>\n",
       "      <td>0.0</td>\n",
       "    </tr>\n",
       "    <tr>\n",
       "      <th>2</th>\n",
       "      <td>0.153459</td>\n",
       "      <td>0.205696</td>\n",
       "      <td>0.793572</td>\n",
       "      <td>0.558911</td>\n",
       "      <td>0.575910</td>\n",
       "      <td>0.306369</td>\n",
       "      <td>0.441381</td>\n",
       "      <td>0.153485</td>\n",
       "      <td>0.607102</td>\n",
       "      <td>0.199194</td>\n",
       "      <td>...</td>\n",
       "      <td>0.448652</td>\n",
       "      <td>0.121560</td>\n",
       "      <td>0.353621</td>\n",
       "      <td>0.868229</td>\n",
       "      <td>1.0</td>\n",
       "      <td>0.0</td>\n",
       "      <td>1.0</td>\n",
       "      <td>0.0</td>\n",
       "      <td>1.0</td>\n",
       "      <td>0.0</td>\n",
       "    </tr>\n",
       "    <tr>\n",
       "      <th>3</th>\n",
       "      <td>0.125169</td>\n",
       "      <td>0.157688</td>\n",
       "      <td>0.637326</td>\n",
       "      <td>0.468152</td>\n",
       "      <td>0.480646</td>\n",
       "      <td>0.335530</td>\n",
       "      <td>0.444307</td>\n",
       "      <td>0.132074</td>\n",
       "      <td>0.486945</td>\n",
       "      <td>0.205135</td>\n",
       "      <td>...</td>\n",
       "      <td>0.392700</td>\n",
       "      <td>0.151031</td>\n",
       "      <td>0.265619</td>\n",
       "      <td>0.721879</td>\n",
       "      <td>1.0</td>\n",
       "      <td>0.0</td>\n",
       "      <td>1.0</td>\n",
       "      <td>0.0</td>\n",
       "      <td>1.0</td>\n",
       "      <td>0.0</td>\n",
       "    </tr>\n",
       "    <tr>\n",
       "      <th>4</th>\n",
       "      <td>0.122146</td>\n",
       "      <td>0.157838</td>\n",
       "      <td>0.637787</td>\n",
       "      <td>0.426467</td>\n",
       "      <td>0.441977</td>\n",
       "      <td>0.314976</td>\n",
       "      <td>0.433100</td>\n",
       "      <td>0.129086</td>\n",
       "      <td>0.410194</td>\n",
       "      <td>0.189152</td>\n",
       "      <td>...</td>\n",
       "      <td>0.410187</td>\n",
       "      <td>0.147711</td>\n",
       "      <td>0.350381</td>\n",
       "      <td>0.812053</td>\n",
       "      <td>1.0</td>\n",
       "      <td>0.0</td>\n",
       "      <td>1.0</td>\n",
       "      <td>0.0</td>\n",
       "      <td>1.0</td>\n",
       "      <td>0.0</td>\n",
       "    </tr>\n",
       "  </tbody>\n",
       "</table>\n",
       "<p>5 rows × 78 columns</p>\n",
       "</div>"
      ],
      "text/plain": [
       "         0         1         2         3         4         5         6   \\\n",
       "0  0.151122  0.212885  0.824638  0.612119  0.630482  0.327006  0.448666   \n",
       "1  0.155750  0.188226  0.776455  0.601070  0.585247  0.311887  0.429899   \n",
       "2  0.153459  0.205696  0.793572  0.558911  0.575910  0.306369  0.441381   \n",
       "3  0.125169  0.157688  0.637326  0.468152  0.480646  0.335530  0.444307   \n",
       "4  0.122146  0.157838  0.637787  0.426467  0.441977  0.314976  0.433100   \n",
       "\n",
       "         7         8         9   ...        68        69        70        71  \\\n",
       "0  0.168257  0.617322  0.232553  ...  0.426816  0.133930  0.336299  0.705738   \n",
       "1  0.154925  0.590173  0.205362  ...  0.429952  0.110434  0.365208  0.749771   \n",
       "2  0.153485  0.607102  0.199194  ...  0.448652  0.121560  0.353621  0.868229   \n",
       "3  0.132074  0.486945  0.205135  ...  0.392700  0.151031  0.265619  0.721879   \n",
       "4  0.129086  0.410194  0.189152  ...  0.410187  0.147711  0.350381  0.812053   \n",
       "\n",
       "    72   73   74   75   76   77  \n",
       "0  1.0  0.0  1.0  0.0  1.0  0.0  \n",
       "1  1.0  0.0  1.0  0.0  1.0  0.0  \n",
       "2  1.0  0.0  1.0  0.0  1.0  0.0  \n",
       "3  1.0  0.0  1.0  0.0  1.0  0.0  \n",
       "4  1.0  0.0  1.0  0.0  1.0  0.0  \n",
       "\n",
       "[5 rows x 78 columns]"
      ]
     },
     "execution_count": 36,
     "metadata": {},
     "output_type": "execute_result"
    }
   ],
   "source": [
    "df_scaled.head()"
   ]
  },
  {
   "cell_type": "code",
   "execution_count": 37,
   "id": "9230d8ae",
   "metadata": {},
   "outputs": [
    {
     "data": {
      "text/plain": [
       "(1080, 78)"
      ]
     },
     "execution_count": 37,
     "metadata": {},
     "output_type": "execute_result"
    }
   ],
   "source": [
    "df_scaled.shape"
   ]
  },
  {
   "cell_type": "markdown",
   "id": "8a56e4c8",
   "metadata": {},
   "source": [
    "# K-means Clustering"
   ]
  },
  {
   "cell_type": "markdown",
   "id": "80a2c8d9",
   "metadata": {},
   "source": [
    "#### 1. Choose the number of clusters K - we will use Elbow method <br>\n"
   ]
  },
  {
   "cell_type": "markdown",
   "id": "15e4eb4c",
   "metadata": {},
   "source": [
    "# Application of Elbow method to find best suitable number of clusters for our dataset"
   ]
  },
  {
   "cell_type": "markdown",
   "id": "6861e8b3",
   "metadata": {},
   "source": [
    "K-means Clustering: predictions are based on the number of centroids present (K) and nearest mean values, given an Euclidean Distance measurement between observations."
   ]
  },
  {
   "cell_type": "code",
   "execution_count": 38,
   "id": "9ce850d7",
   "metadata": {},
   "outputs": [],
   "source": [
    "#! pip install yellowbrick"
   ]
  },
  {
   "cell_type": "markdown",
   "id": "c7479213",
   "metadata": {},
   "source": [
    "### Using Inertia and Silhouette Score to evaluate best K-means model"
   ]
  },
  {
   "cell_type": "markdown",
   "id": "515b99c5",
   "metadata": {},
   "source": [
    "<b> Inertia </b> measures how well a dataset was clustered by K-Means. It is calculated by measuring the distance between each data point and its centroid, squaring this distance, and summing these squares across one cluster. <br>\n",
    "A good model is one with low inertia AND a low number of clusters (K). However, this is a tradeoff because as K increases, inertia decreases.\n",
    "\n",
    "https://www.codecademy.com/learn/machine-learning/modules/dspath-clustering/cheatsheet#:~:text=Inertia%20measures%20how%20well%20a,number%20of%20clusters%20(%20K%20).\n"
   ]
  },
  {
   "cell_type": "markdown",
   "id": "1c3d6df4",
   "metadata": {},
   "source": [
    "The Silhouette Score is measure of Cohesion and Seperation of clusters. <br>\n",
    "The <b> silhouette score </b> falls within range [-1,1] <br>\n",
    "The silhouette score of 1 means that the clusters are very dense and nicely separated and have strong cohesion and seperation. The score o means that clusters are overlapping. The score of less than 0 means that data belonging to clusters may be wrong/incorrect."
   ]
  },
  {
   "cell_type": "markdown",
   "id": "0d1a5692",
   "metadata": {},
   "source": [
    "Analysing Silhouette Score using Silhouette Visualizer method to decide how many clusters gives best score:"
   ]
  },
  {
   "cell_type": "code",
   "execution_count": 39,
   "id": "dc54a2bb",
   "metadata": {},
   "outputs": [],
   "source": [
    "#! pip install sklearn.utils\n",
    "#!pip install -U imbalanced-learn"
   ]
  },
  {
   "cell_type": "code",
   "execution_count": 40,
   "id": "c1d6caaf",
   "metadata": {},
   "outputs": [],
   "source": [
    "from sklearn.cluster import KMeans\n",
    "from sklearn.metrics import silhouette_score\n",
    "from yellowbrick.cluster import SilhouetteVisualizer"
   ]
  },
  {
   "cell_type": "code",
   "execution_count": 41,
   "id": "9cc35399",
   "metadata": {},
   "outputs": [
    {
     "data": {
      "image/png": "[encoded data removed]",
      "text/plain": [
       "<Figure size 1080x576 with 8 Axes>"
      ]
     },
     "metadata": {},
     "output_type": "display_data"
    }
   ],
   "source": [
    "fig, ax = plt.subplots(2,4, figsize=(15,8))\n",
    "for i in [2,3,4,5,6,7,8,9]:\n",
    "    km = KMeans(n_clusters=i, init = 'k-means++', n_init=10, max_iter=100, random_state=42)\n",
    "    q, mod = divmod(i, 4)\n",
    "    \n",
    "    visualizer = SilhouetteVisualizer(km, colors='afmhot', ax=ax[q-1][mod])\n",
    "    visualizer.fit(df_scaled)"
   ]
  },
  {
   "cell_type": "markdown",
   "id": "85bd31f7",
   "metadata": {},
   "source": [
    "Another way of checking best silhouette score:"
   ]
  },
  {
   "cell_type": "code",
   "execution_count": 42,
   "id": "7f0c84ad",
   "metadata": {},
   "outputs": [
    {
     "data": {
      "image/png": "[encoded data removed]",
      "text/plain": [
       "<Figure size 864x432 with 1 Axes>"
      ]
     },
     "metadata": {},
     "output_type": "display_data"
    }
   ],
   "source": [
    "sil = []\n",
    "\n",
    "for i in [2,3,4,5,6,7,8,9,10]:\n",
    "    km = KMeans(n_clusters=i, init = 'k-means++', n_init=10, max_iter=100, random_state=42)\n",
    "    km.fit(df_scaled)\n",
    "    sil.append(silhouette_score(df_scaled, km.predict(df_scaled)))\n",
    "    \n",
    "plt.figure(figsize=(12,6))\n",
    "plt.grid()\n",
    "plt.plot([2,3,4,5,6,7,8,9,10], sil, linewidth=2, color='brown', marker = '8')\n",
    "plt.xlabel('K value')\n",
    "plt.ylabel('Silhouette Score')\n",
    "plt.show()\n"
   ]
  },
  {
   "cell_type": "markdown",
   "id": "62be3618",
   "metadata": {},
   "source": [
    "Based on the above we can clearly see that the highest Silhouette Score we can get while running Kmeans clustering using 8 clusters."
   ]
  },
  {
   "cell_type": "markdown",
   "id": "ec195571",
   "metadata": {},
   "source": [
    "Checking the same for Inertia:"
   ]
  },
  {
   "cell_type": "code",
   "execution_count": 43,
   "id": "d9eecbfa",
   "metadata": {},
   "outputs": [
    {
     "data": {
      "image/png": "[encoded data removed]",
      "text/plain": [
       "<Figure size 864x432 with 1 Axes>"
      ]
     },
     "metadata": {},
     "output_type": "display_data"
    }
   ],
   "source": [
    "wcss=[]\n",
    "\n",
    "for k in range(1,11):\n",
    "    kmeans = KMeans(n_clusters=k, init ='k-means++')\n",
    "    kmeans.fit(df_scaled)\n",
    "    wcss.append(kmeans.inertia_)\n",
    "plt.figure(figsize=(12,6))\n",
    "plt.grid()\n",
    "plt.plot(range(1,11), wcss, linewidth=2, color='red', marker = '8')\n",
    "plt.xlabel('K value')\n",
    "plt.ylabel('WCSS')\n",
    "plt.show()"
   ]
  },
  {
   "cell_type": "markdown",
   "id": "39313702",
   "metadata": {},
   "source": [
    "We can conclude that if we will take into consideration both Silhouette Score and Inertia(WCSS)thatbest number of clusters for our dataset is 8."
   ]
  },
  {
   "cell_type": "markdown",
   "id": "6e6bd5a2",
   "metadata": {},
   "source": [
    "#### 2. Apply  K-means with 8 clusters to raw data "
   ]
  },
  {
   "cell_type": "code",
   "execution_count": 44,
   "id": "5b2fa329",
   "metadata": {},
   "outputs": [
    {
     "name": "stdout",
     "output_type": "stream",
     "text": [
      "The clusters are:   [2 2 2 ... 7 7 7]\n",
      "The Inertia is:    1182.580135026758\n"
     ]
    }
   ],
   "source": [
    "kmeans_1 = KMeans(n_clusters=8, random_state=42)\n",
    "kmeans_1 = kmeans_1.fit(df_scaled)\n",
    "inertia_1 = kmeans_1.inertia_\n",
    "print('The clusters are:  ', kmeans_1.labels_)\n",
    "print('The Inertia is:   ', kmeans_1.inertia_ )\n"
   ]
  },
  {
   "cell_type": "markdown",
   "id": "658dc8ea",
   "metadata": {},
   "source": [
    "Inertia for two clusters on raw data is: <b> 1182.580135026758 </b>"
   ]
  },
  {
   "cell_type": "code",
   "execution_count": 45,
   "id": "b81ee105",
   "metadata": {},
   "outputs": [
    {
     "data": {
      "text/html": [
       "<div>\n",
       "<style scoped>\n",
       "    .dataframe tbody tr th:only-of-type {\n",
       "        vertical-align: middle;\n",
       "    }\n",
       "\n",
       "    .dataframe tbody tr th {\n",
       "        vertical-align: top;\n",
       "    }\n",
       "\n",
       "    .dataframe thead th {\n",
       "        text-align: right;\n",
       "    }\n",
       "</style>\n",
       "<table border=\"1\" class=\"dataframe\">\n",
       "  <thead>\n",
       "    <tr style=\"text-align: right;\">\n",
       "      <th></th>\n",
       "      <th>Cluster 0</th>\n",
       "      <th>Cluster 1</th>\n",
       "      <th>Cluster 2</th>\n",
       "      <th>Cluster 3</th>\n",
       "      <th>Cluster 4</th>\n",
       "      <th>Cluster 5</th>\n",
       "      <th>Cluster 6</th>\n",
       "      <th>Cluster 7</th>\n",
       "    </tr>\n",
       "  </thead>\n",
       "  <tbody>\n",
       "    <tr>\n",
       "      <th>0</th>\n",
       "      <td>105</td>\n",
       "      <td>150</td>\n",
       "      <td>150</td>\n",
       "      <td>135</td>\n",
       "      <td>135</td>\n",
       "      <td>135</td>\n",
       "      <td>135</td>\n",
       "      <td>135</td>\n",
       "    </tr>\n",
       "  </tbody>\n",
       "</table>\n",
       "</div>"
      ],
      "text/plain": [
       "   Cluster 0  Cluster 1  Cluster 2  Cluster 3  Cluster 4  Cluster 5  \\\n",
       "0        105        150        150        135        135        135   \n",
       "\n",
       "   Cluster 6  Cluster 7  \n",
       "0        135        135  "
      ]
     },
     "execution_count": 45,
     "metadata": {},
     "output_type": "execute_result"
    }
   ],
   "source": [
    "#predictions for new data, with new clusters created\n",
    "km_label_1 = kmeans_1.predict(df_scaled)\n",
    "\n",
    "# calculating the Counts of the cluster\n",
    "unique, counts1 = np.unique(km_label_1, return_counts=True)\n",
    "counts1 = counts1.reshape(1,8)\n",
    "\n",
    "# Creating a Data frame\n",
    "countscldf_1 = pd.DataFrame(counts1, columns= ['Cluster 0', 'Cluster 1','Cluster 2', 'Cluster 3',\n",
    "                                            'Cluster 4', 'Cluster 5','Cluster 6', 'Cluster 7'])\n",
    "\n",
    "#display\n",
    "countscldf_1"
   ]
  },
  {
   "cell_type": "code",
   "execution_count": 46,
   "id": "9bc13f49",
   "metadata": {},
   "outputs": [
    {
     "name": "stdout",
     "output_type": "stream",
     "text": [
      "Silhouette Score(n = 2): 0.31981543590845335\n"
     ]
    }
   ],
   "source": [
    "silh_score_1 = silhouette_score(df_scaled, km_label_1)\n",
    "\n",
    "# Display the silhouette score values\n",
    "print(f'Silhouette Score(n = 2): {silhouette_score(df_scaled, km_label_1)}')"
   ]
  },
  {
   "cell_type": "markdown",
   "id": "0395cb08",
   "metadata": {},
   "source": [
    "<b> Silhouette Score <b/> on raw data with 2 Clusters:  0.31981543590845335"
   ]
  },
  {
   "cell_type": "markdown",
   "id": "cd05d3e4",
   "metadata": {},
   "source": [
    "### PCA"
   ]
  },
  {
   "cell_type": "markdown",
   "id": "d81eb977",
   "metadata": {},
   "source": [
    "Dimensionality reduction algorithms capture\n",
    "the salient information in the original data while reducing the size of the dataset. As we move from a high number of dimensions to a lower number, the noise in\n",
    "the dataset is minimized because the dimensionality reduction algorithm needs to capture the most important aspects of the original data and\n",
    "cannot devote attention to infrequently occurring elements. <br>\n",
    "\n",
    "(hands on unsupervised learning using ptyhon)"
   ]
  },
  {
   "cell_type": "markdown",
   "id": "ecb06b01",
   "metadata": {},
   "source": [
    "The goal of PCA is to extract the most important information from the data table by compressing the size of the data and keeping only the important information. "
   ]
  },
  {
   "cell_type": "markdown",
   "id": "1e22e8d7",
   "metadata": {},
   "source": [
    "* The first principal component is required to have the largest possible variance (inertia) and therefore this component will explain the largest part of the inertia/variance of the data, hence the less principal components you have the lower the inertia will be after PCA.<br>\n",
    "* For every new component, the inertia will increase since the rotations are always performed in a subspace and the new axes will always explain less inertia than the original components. <br>\n",
    "* Inertia should not be the criterium to choose the optimal number of principal component since the lower the components are the lower the inertia will be. <br>\n",
    "* the rule of thumb is that 80% explained variance should be the criterium when choosing the number of principal components."
   ]
  },
  {
   "cell_type": "markdown",
   "id": "4e35c6d1",
   "metadata": {},
   "source": [
    "#### 3. Identifying the 'best' number of components for our DataSet (number of components that will explain 80% of variance of our data):"
   ]
  },
  {
   "cell_type": "code",
   "execution_count": 47,
   "id": "8127f01a",
   "metadata": {},
   "outputs": [],
   "source": [
    "from sklearn.decomposition import PCA\n",
    "from sklearn.discriminant_analysis import LinearDiscriminantAnalysis"
   ]
  },
  {
   "cell_type": "code",
   "execution_count": 48,
   "id": "a3526253",
   "metadata": {},
   "outputs": [
    {
     "data": {
      "image/png": "[encoded data removed]",
      "text/plain": [
       "<Figure size 576x396 with 1 Axes>"
      ]
     },
     "metadata": {},
     "output_type": "display_data"
    }
   ],
   "source": [
    "pca = PCA().fit(df_scaled) \n",
    "plt.plot(np.cumsum(pca.explained_variance_ratio_), color='brown') \n",
    "plt.xlabel('number of components') \n",
    "plt.ylabel('cumulative explained variance'); "
   ]
  },
  {
   "cell_type": "code",
   "execution_count": 49,
   "id": "26b4ecc4",
   "metadata": {},
   "outputs": [
    {
     "data": {
      "text/plain": [
       "6"
      ]
     },
     "execution_count": 49,
     "metadata": {},
     "output_type": "execute_result"
    }
   ],
   "source": [
    "pca = PCA(0.80).fit(df_scaled)\n",
    "pca.n_components_ "
   ]
  },
  {
   "cell_type": "code",
   "execution_count": 50,
   "id": "b7ba6018",
   "metadata": {},
   "outputs": [
    {
     "data": {
      "text/plain": [
       "2"
      ]
     },
     "execution_count": 50,
     "metadata": {},
     "output_type": "execute_result"
    }
   ],
   "source": [
    "pca = PCA(0.39).fit(df_scaled)\n",
    "pca.n_components_ "
   ]
  },
  {
   "cell_type": "markdown",
   "id": "1947d54e",
   "metadata": {},
   "source": [
    "We have found out that to keep 80% of explained variance we should perform PCA with 6 components."
   ]
  },
  {
   "cell_type": "markdown",
   "id": "28babf78",
   "metadata": {},
   "source": [
    "I we would decide to do PCA with two components only (that way it would be easy to visualise our data), we would be left with only 39% varaiance explained, we would loose lots of signal from our data."
   ]
  },
  {
   "cell_type": "markdown",
   "id": "a648b2ba",
   "metadata": {},
   "source": [
    "#### 4. Apply K-means with 8 clusters on data after PCA  with 6 components"
   ]
  },
  {
   "cell_type": "code",
   "execution_count": 51,
   "id": "7dc4c896",
   "metadata": {},
   "outputs": [
    {
     "name": "stdout",
     "output_type": "stream",
     "text": [
      "The clusters are:   [2 2 2 ... 6 6 6]\n",
      "The Inertia is:    660.1422136422094\n"
     ]
    }
   ],
   "source": [
    "pca = PCA(n_components=6, random_state=42)\n",
    "df_pca_1 = pca.fit(df_scaled).transform(df_scaled)\n",
    "\n",
    "kmeans_2 = KMeans(n_clusters=8, random_state=42)\n",
    "kmeans_2 = kmeans_2.fit(df_pca_1)\n",
    "inertia_2 = kmeans_2.inertia_\n",
    "print('The clusters are:  ', kmeans_2.labels_)\n",
    "print('The Inertia is:   ', kmeans_2.inertia_ )"
   ]
  },
  {
   "cell_type": "markdown",
   "id": "8c46f1a2",
   "metadata": {},
   "source": [
    "Inertia for two clusters on data after PCA with 8 components is: <b> 660.1422136422094 </b>"
   ]
  },
  {
   "cell_type": "markdown",
   "id": "f75e7c91",
   "metadata": {},
   "source": [
    "Inertia has improved slightly after applying PCA with 8 components."
   ]
  },
  {
   "cell_type": "code",
   "execution_count": 52,
   "id": "b69c5dfd",
   "metadata": {},
   "outputs": [
    {
     "name": "stdout",
     "output_type": "stream",
     "text": [
      "Silhouette Score(n = 2): 0.44797732154015246\n"
     ]
    }
   ],
   "source": [
    "#predictions for new data, with new clusters created\n",
    "km_label_2 = kmeans_2.predict(df_pca_1)\n",
    "\n",
    "silh_score_2 = silhouette_score(df_pca_1, km_label_2)\n",
    "# Display the silhouette score values\n",
    "print(f'Silhouette Score(n = 2): {silhouette_score(df_pca_1, km_label_2)}')"
   ]
  },
  {
   "cell_type": "markdown",
   "id": "cf47cff7",
   "metadata": {},
   "source": [
    "Silhouette Score for two clusters on data after PCA with 8 components is: <b> 0.44797732154015246 </b>"
   ]
  },
  {
   "cell_type": "code",
   "execution_count": 53,
   "id": "52bbd62b",
   "metadata": {},
   "outputs": [
    {
     "data": {
      "text/html": [
       "<div>\n",
       "<style scoped>\n",
       "    .dataframe tbody tr th:only-of-type {\n",
       "        vertical-align: middle;\n",
       "    }\n",
       "\n",
       "    .dataframe tbody tr th {\n",
       "        vertical-align: top;\n",
       "    }\n",
       "\n",
       "    .dataframe thead th {\n",
       "        text-align: right;\n",
       "    }\n",
       "</style>\n",
       "<table border=\"1\" class=\"dataframe\">\n",
       "  <thead>\n",
       "    <tr style=\"text-align: right;\">\n",
       "      <th></th>\n",
       "      <th>Cluster 0</th>\n",
       "      <th>Cluster 1</th>\n",
       "      <th>Cluster 2</th>\n",
       "      <th>Cluster 3</th>\n",
       "      <th>Cluster 4</th>\n",
       "      <th>Cluster 5</th>\n",
       "      <th>Cluster 6</th>\n",
       "      <th>Cluster 7</th>\n",
       "    </tr>\n",
       "  </thead>\n",
       "  <tbody>\n",
       "    <tr>\n",
       "      <th>0</th>\n",
       "      <td>105</td>\n",
       "      <td>150</td>\n",
       "      <td>150</td>\n",
       "      <td>135</td>\n",
       "      <td>135</td>\n",
       "      <td>135</td>\n",
       "      <td>135</td>\n",
       "      <td>135</td>\n",
       "    </tr>\n",
       "  </tbody>\n",
       "</table>\n",
       "</div>"
      ],
      "text/plain": [
       "   Cluster 0  Cluster 1  Cluster 2  Cluster 3  Cluster 4  Cluster 5  \\\n",
       "0        105        150        150        135        135        135   \n",
       "\n",
       "   Cluster 6  Cluster 7  \n",
       "0        135        135  "
      ]
     },
     "execution_count": 53,
     "metadata": {},
     "output_type": "execute_result"
    }
   ],
   "source": [
    "# calculating the Counts of the cluster\n",
    "unique, counts2 = np.unique(km_label_2, return_counts=True)\n",
    "counts2 = counts2.reshape(1,8)\n",
    "\n",
    "# Creating a Data frame\n",
    "countscldf_2 = pd.DataFrame(counts2, columns= ['Cluster 0', 'Cluster 1','Cluster 2', 'Cluster 3',\n",
    "                                            'Cluster 4', 'Cluster 5','Cluster 6', 'Cluster 7'])\n",
    "\n",
    "#display\n",
    "countscldf_2"
   ]
  },
  {
   "cell_type": "markdown",
   "id": "4a30d06f",
   "metadata": {},
   "source": [
    "#### 3. Apply K-means with 8 clusters on data after PCA with 2 components (understanding that only 39% of explained variance will be kept)"
   ]
  },
  {
   "cell_type": "code",
   "execution_count": 54,
   "id": "5639f3c0",
   "metadata": {},
   "outputs": [
    {
     "name": "stdout",
     "output_type": "stream",
     "text": [
      "The clusters are:   [4 4 4 ... 3 3 3]\n",
      "The Inertia is:    18.874801751372104\n"
     ]
    }
   ],
   "source": [
    "# initialising PCA model for two components\n",
    "pca = PCA(n_components=2, random_state=42)\n",
    "df_pca_2 = pca.fit(df_scaled).transform(df_scaled)\n",
    "\n",
    "kmeans_3 = KMeans(n_clusters=8, random_state=42)\n",
    "kmeans_3 = kmeans_2.fit(df_pca_2)\n",
    "inertia_3 = kmeans_3.inertia_\n",
    "print('The clusters are:  ', kmeans_3.labels_)\n",
    "print('The Inertia is:   ', kmeans_3.inertia_ )\n"
   ]
  },
  {
   "cell_type": "markdown",
   "id": "aac1855d",
   "metadata": {},
   "source": [
    "Inertia for two clusters on data after PCA with 2 components is: <b>  18.874801751372104 </b>"
   ]
  },
  {
   "cell_type": "code",
   "execution_count": 55,
   "id": "c8bb66b6",
   "metadata": {},
   "outputs": [
    {
     "name": "stdout",
     "output_type": "stream",
     "text": [
      "Silhouette Score(n = 2): 0.7682209605821667\n"
     ]
    }
   ],
   "source": [
    "km_label_3 = kmeans_2.predict(df_pca_2)\n",
    "silh_score_3 = silhouette_score(df_pca_2, km_label_3)\n",
    "\n",
    "# Display the silhouette score values\n",
    "print(f'Silhouette Score(n = 2): {silhouette_score(df_pca_2, km_label_3)}')"
   ]
  },
  {
   "cell_type": "markdown",
   "id": "3dd81ec8",
   "metadata": {},
   "source": [
    "Silhouette Score for two clusters on data after PCA with 2 components is: <b> 0.7682209605821667 </b>"
   ]
  },
  {
   "cell_type": "code",
   "execution_count": 56,
   "id": "b0b76f52",
   "metadata": {},
   "outputs": [
    {
     "data": {
      "text/html": [
       "<div>\n",
       "<style scoped>\n",
       "    .dataframe tbody tr th:only-of-type {\n",
       "        vertical-align: middle;\n",
       "    }\n",
       "\n",
       "    .dataframe tbody tr th {\n",
       "        vertical-align: top;\n",
       "    }\n",
       "\n",
       "    .dataframe thead th {\n",
       "        text-align: right;\n",
       "    }\n",
       "</style>\n",
       "<table border=\"1\" class=\"dataframe\">\n",
       "  <thead>\n",
       "    <tr style=\"text-align: right;\">\n",
       "      <th></th>\n",
       "      <th>Cluster 0</th>\n",
       "      <th>Cluster 1</th>\n",
       "      <th>Cluster 2</th>\n",
       "      <th>Cluster 3</th>\n",
       "      <th>Cluster 4</th>\n",
       "      <th>Cluster 5</th>\n",
       "      <th>Cluster 6</th>\n",
       "      <th>Cluster 7</th>\n",
       "    </tr>\n",
       "  </thead>\n",
       "  <tbody>\n",
       "    <tr>\n",
       "      <th>0</th>\n",
       "      <td>105</td>\n",
       "      <td>135</td>\n",
       "      <td>135</td>\n",
       "      <td>135</td>\n",
       "      <td>150</td>\n",
       "      <td>150</td>\n",
       "      <td>135</td>\n",
       "      <td>135</td>\n",
       "    </tr>\n",
       "  </tbody>\n",
       "</table>\n",
       "</div>"
      ],
      "text/plain": [
       "   Cluster 0  Cluster 1  Cluster 2  Cluster 3  Cluster 4  Cluster 5  \\\n",
       "0        105        135        135        135        150        150   \n",
       "\n",
       "   Cluster 6  Cluster 7  \n",
       "0        135        135  "
      ]
     },
     "execution_count": 56,
     "metadata": {},
     "output_type": "execute_result"
    }
   ],
   "source": [
    "# calculating the Counts of the cluster\n",
    "unique, counts3 = np.unique(km_label_3, return_counts=True)\n",
    "counts3 = counts3.reshape(1,8)\n",
    "\n",
    "# Creating a Data frame\n",
    "countscldf_3 = pd.DataFrame(counts3, columns= ['Cluster 0', 'Cluster 1','Cluster 2', 'Cluster 3',\n",
    "                                            'Cluster 4', 'Cluster 5','Cluster 6', 'Cluster 7'])\n",
    "\n",
    "#display\n",
    "countscldf_3"
   ]
  },
  {
   "cell_type": "markdown",
   "id": "bece22ce",
   "metadata": {},
   "source": [
    "Creating dataframe with new components and old and new lables;"
   ]
  },
  {
   "cell_type": "code",
   "execution_count": 57,
   "id": "c989b81b",
   "metadata": {},
   "outputs": [],
   "source": [
    "df_pca_concat = pd.DataFrame(df_pca_2, columns =['Component 1', 'Component 2'])"
   ]
  },
  {
   "cell_type": "code",
   "execution_count": 58,
   "id": "d5af4cf0",
   "metadata": {},
   "outputs": [
    {
     "data": {
      "text/html": [
       "<div>\n",
       "<style scoped>\n",
       "    .dataframe tbody tr th:only-of-type {\n",
       "        vertical-align: middle;\n",
       "    }\n",
       "\n",
       "    .dataframe tbody tr th {\n",
       "        vertical-align: top;\n",
       "    }\n",
       "\n",
       "    .dataframe thead th {\n",
       "        text-align: right;\n",
       "    }\n",
       "</style>\n",
       "<table border=\"1\" class=\"dataframe\">\n",
       "  <thead>\n",
       "    <tr style=\"text-align: right;\">\n",
       "      <th></th>\n",
       "      <th>Component 1</th>\n",
       "      <th>Component 2</th>\n",
       "    </tr>\n",
       "  </thead>\n",
       "  <tbody>\n",
       "    <tr>\n",
       "      <th>0</th>\n",
       "      <td>-0.804618</td>\n",
       "      <td>-1.007160</td>\n",
       "    </tr>\n",
       "    <tr>\n",
       "      <th>1</th>\n",
       "      <td>-0.822809</td>\n",
       "      <td>-1.002333</td>\n",
       "    </tr>\n",
       "  </tbody>\n",
       "</table>\n",
       "</div>"
      ],
      "text/plain": [
       "   Component 1  Component 2\n",
       "0    -0.804618    -1.007160\n",
       "1    -0.822809    -1.002333"
      ]
     },
     "execution_count": 58,
     "metadata": {},
     "output_type": "execute_result"
    }
   ],
   "source": [
    "df_pca_concat.head(2)"
   ]
  },
  {
   "cell_type": "code",
   "execution_count": 59,
   "id": "ae2ccd60",
   "metadata": {},
   "outputs": [
    {
     "data": {
      "text/html": [
       "<div>\n",
       "<style scoped>\n",
       "    .dataframe tbody tr th:only-of-type {\n",
       "        vertical-align: middle;\n",
       "    }\n",
       "\n",
       "    .dataframe tbody tr th {\n",
       "        vertical-align: top;\n",
       "    }\n",
       "\n",
       "    .dataframe thead th {\n",
       "        text-align: right;\n",
       "    }\n",
       "</style>\n",
       "<table border=\"1\" class=\"dataframe\">\n",
       "  <thead>\n",
       "    <tr style=\"text-align: right;\">\n",
       "      <th></th>\n",
       "      <th>km_label_3</th>\n",
       "    </tr>\n",
       "  </thead>\n",
       "  <tbody>\n",
       "    <tr>\n",
       "      <th>0</th>\n",
       "      <td>4</td>\n",
       "    </tr>\n",
       "    <tr>\n",
       "      <th>1</th>\n",
       "      <td>4</td>\n",
       "    </tr>\n",
       "    <tr>\n",
       "      <th>2</th>\n",
       "      <td>4</td>\n",
       "    </tr>\n",
       "    <tr>\n",
       "      <th>3</th>\n",
       "      <td>4</td>\n",
       "    </tr>\n",
       "    <tr>\n",
       "      <th>4</th>\n",
       "      <td>4</td>\n",
       "    </tr>\n",
       "  </tbody>\n",
       "</table>\n",
       "</div>"
      ],
      "text/plain": [
       "   km_label_3\n",
       "0           4\n",
       "1           4\n",
       "2           4\n",
       "3           4\n",
       "4           4"
      ]
     },
     "execution_count": 59,
     "metadata": {},
     "output_type": "execute_result"
    }
   ],
   "source": [
    "columns = ['km_label_3']\n",
    "km_label_3 = pd.DataFrame(data=km_label_3, columns=columns)\n",
    "km_label_3.head()"
   ]
  },
  {
   "cell_type": "code",
   "execution_count": 60,
   "id": "00219e4e",
   "metadata": {},
   "outputs": [
    {
     "name": "stdout",
     "output_type": "stream",
     "text": [
      "km_label_3\n",
      "4             150\n",
      "5             150\n",
      "1             135\n",
      "2             135\n",
      "3             135\n",
      "6             135\n",
      "7             135\n",
      "0             105\n",
      "dtype: int64\n"
     ]
    }
   ],
   "source": [
    "print(km_label_3.value_counts())"
   ]
  },
  {
   "cell_type": "markdown",
   "id": "1e7d4bcb",
   "metadata": {},
   "source": [
    "Creating the entire dataset again, joining predicted label and original label:"
   ]
  },
  {
   "cell_type": "code",
   "execution_count": 61,
   "id": "6eb42898",
   "metadata": {},
   "outputs": [],
   "source": [
    "df_pca_concat = pd.concat([df_pca_concat, km_label_3,y], axis=1)"
   ]
  },
  {
   "cell_type": "code",
   "execution_count": 62,
   "id": "ac2d741c",
   "metadata": {},
   "outputs": [
    {
     "data": {
      "text/html": [
       "<div>\n",
       "<style scoped>\n",
       "    .dataframe tbody tr th:only-of-type {\n",
       "        vertical-align: middle;\n",
       "    }\n",
       "\n",
       "    .dataframe tbody tr th {\n",
       "        vertical-align: top;\n",
       "    }\n",
       "\n",
       "    .dataframe thead th {\n",
       "        text-align: right;\n",
       "    }\n",
       "</style>\n",
       "<table border=\"1\" class=\"dataframe\">\n",
       "  <thead>\n",
       "    <tr style=\"text-align: right;\">\n",
       "      <th></th>\n",
       "      <th>Component 1</th>\n",
       "      <th>Component 2</th>\n",
       "      <th>km_label_3</th>\n",
       "      <th>class</th>\n",
       "    </tr>\n",
       "  </thead>\n",
       "  <tbody>\n",
       "    <tr>\n",
       "      <th>0</th>\n",
       "      <td>-0.804618</td>\n",
       "      <td>-1.007160</td>\n",
       "      <td>4</td>\n",
       "      <td>0</td>\n",
       "    </tr>\n",
       "    <tr>\n",
       "      <th>1</th>\n",
       "      <td>-0.822809</td>\n",
       "      <td>-1.002333</td>\n",
       "      <td>4</td>\n",
       "      <td>0</td>\n",
       "    </tr>\n",
       "    <tr>\n",
       "      <th>2</th>\n",
       "      <td>-0.846543</td>\n",
       "      <td>-0.996492</td>\n",
       "      <td>4</td>\n",
       "      <td>0</td>\n",
       "    </tr>\n",
       "    <tr>\n",
       "      <th>3</th>\n",
       "      <td>-0.811094</td>\n",
       "      <td>-0.998073</td>\n",
       "      <td>4</td>\n",
       "      <td>0</td>\n",
       "    </tr>\n",
       "    <tr>\n",
       "      <th>4</th>\n",
       "      <td>-0.835360</td>\n",
       "      <td>-0.997919</td>\n",
       "      <td>4</td>\n",
       "      <td>0</td>\n",
       "    </tr>\n",
       "  </tbody>\n",
       "</table>\n",
       "</div>"
      ],
      "text/plain": [
       "   Component 1  Component 2  km_label_3  class\n",
       "0    -0.804618    -1.007160           4      0\n",
       "1    -0.822809    -1.002333           4      0\n",
       "2    -0.846543    -0.996492           4      0\n",
       "3    -0.811094    -0.998073           4      0\n",
       "4    -0.835360    -0.997919           4      0"
      ]
     },
     "execution_count": 62,
     "metadata": {},
     "output_type": "execute_result"
    }
   ],
   "source": [
    "df_pca_concat.head()"
   ]
  },
  {
   "cell_type": "markdown",
   "id": "a9054476",
   "metadata": {},
   "source": [
    "#### 4. Visualize original data vs Clustered Data"
   ]
  },
  {
   "cell_type": "code",
   "execution_count": 63,
   "id": "b92c3ca0",
   "metadata": {},
   "outputs": [
    {
     "data": {
      "image/png": "[encoded data removed]",
      "text/plain": [
       "<Figure size 1152x432 with 2 Axes>"
      ]
     },
     "metadata": {},
     "output_type": "display_data"
    }
   ],
   "source": [
    "plt.figure(figsize=(16, 6)) \n",
    "plt.subplot(1,2,1)\n",
    "\n",
    "sns.scatterplot(x = 'Component 1', y = 'Component 2', data = df_pca_concat, hue = 'class', palette='afmhot')\n",
    "plt.title('Original Data', fontsize=18)\n",
    "\n",
    "plt.subplot(1,2,2)\n",
    "\n",
    "sns.scatterplot(x = 'Component 1', y = 'Component 2', data = df_pca_concat, hue = 'km_label_3', palette='afmhot')\n",
    "plt.title('K-means with PCA(2)', fontsize=18)\n",
    "\n",
    "plt.show()"
   ]
  },
  {
   "cell_type": "markdown",
   "id": "53ca0928",
   "metadata": {},
   "source": [
    "### Model Comparison based on Inertia and Silhouette Score:"
   ]
  },
  {
   "cell_type": "code",
   "execution_count": 86,
   "id": "5f78f2f3",
   "metadata": {},
   "outputs": [
    {
     "data": {
      "text/html": [
       "<div>\n",
       "<style scoped>\n",
       "    .dataframe tbody tr th:only-of-type {\n",
       "        vertical-align: middle;\n",
       "    }\n",
       "\n",
       "    .dataframe tbody tr th {\n",
       "        vertical-align: top;\n",
       "    }\n",
       "\n",
       "    .dataframe thead th {\n",
       "        text-align: right;\n",
       "    }\n",
       "</style>\n",
       "<table border=\"1\" class=\"dataframe\">\n",
       "  <thead>\n",
       "    <tr style=\"text-align: right;\">\n",
       "      <th></th>\n",
       "      <th>Model</th>\n",
       "      <th>Inertia_Score</th>\n",
       "      <th>Silhouette_Score</th>\n",
       "    </tr>\n",
       "  </thead>\n",
       "  <tbody>\n",
       "    <tr>\n",
       "      <th>0</th>\n",
       "      <td>K-means_PCA(2)</td>\n",
       "      <td>18.874802</td>\n",
       "      <td>0.768221</td>\n",
       "    </tr>\n",
       "    <tr>\n",
       "      <th>1</th>\n",
       "      <td>K-means_PCA(6)</td>\n",
       "      <td>660.142214</td>\n",
       "      <td>0.447977</td>\n",
       "    </tr>\n",
       "    <tr>\n",
       "      <th>2</th>\n",
       "      <td>K-means_1</td>\n",
       "      <td>1182.580135</td>\n",
       "      <td>0.319815</td>\n",
       "    </tr>\n",
       "  </tbody>\n",
       "</table>\n",
       "</div>"
      ],
      "text/plain": [
       "            Model  Inertia_Score  Silhouette_Score\n",
       "0  K-means_PCA(2)      18.874802          0.768221\n",
       "1  K-means_PCA(6)     660.142214          0.447977\n",
       "2       K-means_1    1182.580135          0.319815"
      ]
     },
     "execution_count": 86,
     "metadata": {},
     "output_type": "execute_result"
    }
   ],
   "source": [
    "Model_Comparison = pd.DataFrame({\n",
    "'Model' : ['K-means_1', 'K-means_PCA(6)', 'K-means_PCA(2)'],\n",
    "'Inertia_Score' : [inertia_1, inertia_2, inertia_3],\n",
    "'Silhouette_Score' : [silh_score_1, silh_score_2, silh_score_3]})\n",
    "\n",
    "Model_Comparison_df = Model_Comparison.sort_values(by='Inertia_Score', ascending=True)\n",
    "Model_Comparison_df = Model_Comparison_df.set_index('Model')\n",
    "Model_Comparison_df.reset_index()"
   ]
  },
  {
   "cell_type": "code",
   "execution_count": 87,
   "id": "7e227042",
   "metadata": {},
   "outputs": [
    {
     "data": {
      "text/plain": [
       "Text(0.5, 1.0, 'Model Comparison')"
      ]
     },
     "execution_count": 87,
     "metadata": {},
     "output_type": "execute_result"
    },
    {
     "data": {
      "image/png": "[encoded data removed]",
      "text/plain": [
       "<Figure size 720x432 with 2 Axes>"
      ]
     },
     "metadata": {},
     "output_type": "display_data"
    }
   ],
   "source": [
    "sns.set(rc={'figure.figsize':(10,6)})\n",
    "sns.heatmap(Model_Comparison_df, annot=True,fmt='g', cmap='YlOrBr_r')\n",
    "plt.title('Model Comparison', fontsize=18)"
   ]
  },
  {
   "cell_type": "markdown",
   "id": "d6908c2e",
   "metadata": {},
   "source": [
    "#### Conclusion:\n",
    "After running the Elbow method on WCSS and Silhouette score, we concluded that the best number of clusters are eight. <br>\n",
    "After application of K-means on raw/unchanged data our results were poor: very high Inertia plus Silhouette Score very close to zero. <br>\n",
    "Then we have applied PCA with 6 components after checking that this will remain 80% of variance explained. The results have improved a lot. <br>\n",
    "The last step was to apply PCA with 2 components only, understanding that the two components hold only 39% of the variance explained. The Inertia and Silhouette Scores significantly improved this time.\n",
    "\n"
   ]
  },
  {
   "cell_type": "markdown",
   "id": "03475928",
   "metadata": {},
   "source": [
    "### KMedoids "
   ]
  },
  {
   "cell_type": "code",
   "execution_count": 66,
   "id": "bb6ea955",
   "metadata": {},
   "outputs": [],
   "source": [
    "#!pip install scikit-learn-extra"
   ]
  },
  {
   "cell_type": "code",
   "execution_count": 67,
   "id": "90a6b704",
   "metadata": {},
   "outputs": [],
   "source": [
    "from sklearn_extra.cluster import KMedoids"
   ]
  },
  {
   "cell_type": "markdown",
   "id": "d5bd48f6",
   "metadata": {},
   "source": [
    "Generating KMedoids classifier with 8 clusters:"
   ]
  },
  {
   "cell_type": "code",
   "execution_count": 68,
   "id": "1e69a0f8",
   "metadata": {},
   "outputs": [],
   "source": [
    "Medoids_1 = KMedoids(n_clusters=8, random_state=0)"
   ]
  },
  {
   "cell_type": "markdown",
   "id": "fe25d1f9",
   "metadata": {},
   "source": [
    "Applying classifier to original/raw data:"
   ]
  },
  {
   "cell_type": "code",
   "execution_count": 69,
   "id": "b919f756",
   "metadata": {},
   "outputs": [
    {
     "name": "stdout",
     "output_type": "stream",
     "text": [
      "The clusters are:   [7 7 7 ... 4 4 4]\n",
      "The Inertia is:    1420.406124261303\n"
     ]
    }
   ],
   "source": [
    "Medoids_1 = Medoids_1.fit(df_scaled)\n",
    "inertia_4 = Medoids_1.inertia_\n",
    "print('The clusters are:  ', Medoids_1.labels_)\n",
    "print('The Inertia is:   ', Medoids_1.inertia_ )"
   ]
  },
  {
   "cell_type": "markdown",
   "id": "74ae9fda",
   "metadata": {},
   "source": [
    "Inertia for KMedoids model with 8 clusters on raw data is : <b> 1420.406124261303 </b>"
   ]
  },
  {
   "cell_type": "code",
   "execution_count": 70,
   "id": "ef4cfeb6",
   "metadata": {},
   "outputs": [
    {
     "name": "stdout",
     "output_type": "stream",
     "text": [
      "Silhouette Score(n = 2): 0.1710884762361544\n"
     ]
    }
   ],
   "source": [
    "Medoids_label_1 = Medoids_1.predict(df_scaled)\n",
    "silh_score_4 = silhouette_score(df_scaled, Medoids_label_1)\n",
    "\n",
    "# Display the silhouette score values\n",
    "print(f'Silhouette Score(n = 2): {silhouette_score(df_scaled, Medoids_label_1)}')"
   ]
  },
  {
   "cell_type": "markdown",
   "id": "3afedbdc",
   "metadata": {},
   "source": [
    "Silhouette Score for raw data with 8 clusters is : <b> 0.1710884762361544 </b>"
   ]
  },
  {
   "cell_type": "markdown",
   "id": "31a83761",
   "metadata": {},
   "source": [
    "Using data after PCA with 2 components as that was best result for KMeans, assuming it will be same case for KMedoids:"
   ]
  },
  {
   "cell_type": "code",
   "execution_count": 71,
   "id": "deefad1f",
   "metadata": {},
   "outputs": [
    {
     "name": "stdout",
     "output_type": "stream",
     "text": [
      "Inertia : 483.5172586601007\n"
     ]
    }
   ],
   "source": [
    "Medoids_2 = KMedoids(n_clusters=8, random_state=0)\n",
    "Medoids_2 = Medoids_2.fit(df_pca_2)\n",
    "Medoids_label_2 = Medoids_2.predict(df_pca_2)\n",
    "inertia_5 = Medoids_2.inertia_\n",
    "print('Inertia :', inertia_5)"
   ]
  },
  {
   "cell_type": "code",
   "execution_count": 72,
   "id": "fedec7bf",
   "metadata": {},
   "outputs": [
    {
     "name": "stdout",
     "output_type": "stream",
     "text": [
      "SILHOUETTE : 0.4133791080694095\n"
     ]
    }
   ],
   "source": [
    "silh_score_5 = silhouette_score(df_pca_2, Medoids_label_2)\n",
    "print('SILHOUETTE :', silhouette_score(df_pca_2, Medoids_label_2))"
   ]
  },
  {
   "cell_type": "code",
   "execution_count": 73,
   "id": "36affd1a",
   "metadata": {},
   "outputs": [
    {
     "data": {
      "text/html": [
       "<div>\n",
       "<style scoped>\n",
       "    .dataframe tbody tr th:only-of-type {\n",
       "        vertical-align: middle;\n",
       "    }\n",
       "\n",
       "    .dataframe tbody tr th {\n",
       "        vertical-align: top;\n",
       "    }\n",
       "\n",
       "    .dataframe thead th {\n",
       "        text-align: right;\n",
       "    }\n",
       "</style>\n",
       "<table border=\"1\" class=\"dataframe\">\n",
       "  <thead>\n",
       "    <tr style=\"text-align: right;\">\n",
       "      <th></th>\n",
       "      <th>Medoids_label_2</th>\n",
       "    </tr>\n",
       "  </thead>\n",
       "  <tbody>\n",
       "    <tr>\n",
       "      <th>0</th>\n",
       "      <td>1</td>\n",
       "    </tr>\n",
       "    <tr>\n",
       "      <th>1</th>\n",
       "      <td>1</td>\n",
       "    </tr>\n",
       "    <tr>\n",
       "      <th>2</th>\n",
       "      <td>1</td>\n",
       "    </tr>\n",
       "    <tr>\n",
       "      <th>3</th>\n",
       "      <td>1</td>\n",
       "    </tr>\n",
       "    <tr>\n",
       "      <th>4</th>\n",
       "      <td>1</td>\n",
       "    </tr>\n",
       "  </tbody>\n",
       "</table>\n",
       "</div>"
      ],
      "text/plain": [
       "   Medoids_label_2\n",
       "0                1\n",
       "1                1\n",
       "2                1\n",
       "3                1\n",
       "4                1"
      ]
     },
     "execution_count": 73,
     "metadata": {},
     "output_type": "execute_result"
    }
   ],
   "source": [
    "columns = ['Medoids_label_2']\n",
    "Medoids_label_2 = pd.DataFrame(data=Medoids_label_2, columns=columns)\n",
    "Medoids_label_2.head()"
   ]
  },
  {
   "cell_type": "code",
   "execution_count": 74,
   "id": "24e7ccc4",
   "metadata": {},
   "outputs": [],
   "source": [
    "df_pca_concat = pd.concat([df_pca_concat, Medoids_label_2], axis=1)"
   ]
  },
  {
   "cell_type": "code",
   "execution_count": 78,
   "id": "3f835258",
   "metadata": {},
   "outputs": [
    {
     "data": {
      "image/png": "[encoded data removed]",
      "text/plain": [
       "<Figure size 720x432 with 1 Axes>"
      ]
     },
     "metadata": {},
     "output_type": "display_data"
    }
   ],
   "source": [
    "sns.scatterplot(x = 'Component 1', y = 'Component 2', data = df_pca_concat, hue = 'Medoids_label_2',\n",
    "                palette='afmhot')\n",
    "plt.title('K-Medoids with PCA(2)', fontsize=18)\n",
    "\n",
    "plt.show()"
   ]
  },
  {
   "cell_type": "markdown",
   "id": "e9f7bc7a",
   "metadata": {},
   "source": [
    "The silhouette score is much worse for this algorithm and also the split of the clusters is much worse."
   ]
  },
  {
   "cell_type": "code",
   "execution_count": 84,
   "id": "5d425c7d",
   "metadata": {},
   "outputs": [
    {
     "data": {
      "text/html": [
       "<div>\n",
       "<style scoped>\n",
       "    .dataframe tbody tr th:only-of-type {\n",
       "        vertical-align: middle;\n",
       "    }\n",
       "\n",
       "    .dataframe tbody tr th {\n",
       "        vertical-align: top;\n",
       "    }\n",
       "\n",
       "    .dataframe thead th {\n",
       "        text-align: right;\n",
       "    }\n",
       "</style>\n",
       "<table border=\"1\" class=\"dataframe\">\n",
       "  <thead>\n",
       "    <tr style=\"text-align: right;\">\n",
       "      <th></th>\n",
       "      <th>Model</th>\n",
       "      <th>Silhouette_Score</th>\n",
       "      <th>Inertia_Score</th>\n",
       "    </tr>\n",
       "  </thead>\n",
       "  <tbody>\n",
       "    <tr>\n",
       "      <th>0</th>\n",
       "      <td>K-means_PCA(2)</td>\n",
       "      <td>0.768221</td>\n",
       "      <td>18.874802</td>\n",
       "    </tr>\n",
       "    <tr>\n",
       "      <th>1</th>\n",
       "      <td>K-means_PCA(6)</td>\n",
       "      <td>0.447977</td>\n",
       "      <td>660.142214</td>\n",
       "    </tr>\n",
       "    <tr>\n",
       "      <th>2</th>\n",
       "      <td>KMedoids_PCA(2)</td>\n",
       "      <td>0.413379</td>\n",
       "      <td>483.517259</td>\n",
       "    </tr>\n",
       "    <tr>\n",
       "      <th>3</th>\n",
       "      <td>K-means_1</td>\n",
       "      <td>0.319815</td>\n",
       "      <td>1182.580135</td>\n",
       "    </tr>\n",
       "    <tr>\n",
       "      <th>4</th>\n",
       "      <td>KMedoids</td>\n",
       "      <td>0.171088</td>\n",
       "      <td>1420.406124</td>\n",
       "    </tr>\n",
       "  </tbody>\n",
       "</table>\n",
       "</div>"
      ],
      "text/plain": [
       "             Model  Silhouette_Score  Inertia_Score\n",
       "0   K-means_PCA(2)          0.768221      18.874802\n",
       "1   K-means_PCA(6)          0.447977     660.142214\n",
       "2  KMedoids_PCA(2)          0.413379     483.517259\n",
       "3        K-means_1          0.319815    1182.580135\n",
       "4         KMedoids          0.171088    1420.406124"
      ]
     },
     "execution_count": 84,
     "metadata": {},
     "output_type": "execute_result"
    }
   ],
   "source": [
    "Model_Comparison_1 = pd.DataFrame({\n",
    "'Model' : ['K-means_1', 'K-means_PCA(6)', 'K-means_PCA(2)', 'KMedoids', 'KMedoids_PCA(2)'],\n",
    "'Silhouette_Score' : [silh_score_1, silh_score_2, silh_score_3, silh_score_4, silh_score_5],\n",
    "'Inertia_Score' : [inertia_1, inertia_2, inertia_3, inertia_4, inertia_5]})\n",
    "\n",
    "Model_Comparison_df_1 = Model_Comparison_1.sort_values(by='Silhouette_Score', ascending=False)\n",
    "Model_Comparison_df_1 = Model_Comparison_df_1.set_index('Model')\n",
    "Model_Comparison_df_1.reset_index()"
   ]
  },
  {
   "cell_type": "code",
   "execution_count": 85,
   "id": "5198d020",
   "metadata": {},
   "outputs": [
    {
     "data": {
      "text/plain": [
       "Text(0.5, 1.0, 'Model Comparison')"
      ]
     },
     "execution_count": 85,
     "metadata": {},
     "output_type": "execute_result"
    },
    {
     "data": {
      "image/png": "[encoded data removed]",
      "text/plain": [
       "<Figure size 720x432 with 2 Axes>"
      ]
     },
     "metadata": {},
     "output_type": "display_data"
    }
   ],
   "source": [
    "sns.set(rc={'figure.figsize':(10,6)})\n",
    "sns.heatmap(Model_Comparison_df, annot=True,fmt='g', cmap='YlOrBr_r')\n",
    "plt.title('Model Comparison', fontsize=18)"
   ]
  },
  {
   "cell_type": "code",
   "execution_count": null,
   "id": "d2a2e0c6",
   "metadata": {},
   "outputs": [],
   "source": []
  }
 ],
 "metadata": {
  "kernelspec": {
   "display_name": "Python 3 (ipykernel)",
   "language": "python",
   "name": "python3"
  },
  "language_info": {
   "codemirror_mode": {
    "name": "ipython",
    "version": 3
   },
   "file_extension": ".py",
   "mimetype": "text/x-python",
   "name": "python",
   "nbconvert_exporter": "python",
   "pygments_lexer": "ipython3",
   "version": "3.9.7"
  }
 },
 "nbformat": 4,
 "nbformat_minor": 5
}
